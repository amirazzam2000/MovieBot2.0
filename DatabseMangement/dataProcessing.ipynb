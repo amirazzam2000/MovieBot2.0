{
 "cells": [
  {
   "cell_type": "code",
   "execution_count": 150,
   "metadata": {
    "collapsed": true
   },
   "outputs": [],
   "source": [
    "import pandas as pd\r\n",
    "import datetime as dt\r\n",
    "\r\n",
    "movies = pd.read_csv('../Resources/IMDb_movies.csv',low_memory=False)"
   ]
  },
  {
   "cell_type": "code",
   "execution_count": 160,
   "metadata": {
    "collapsed": false,
    "pycharm": {
     "name": "#%%\n"
    }
   },
   "outputs": [
    {
     "name": "stdout",
     "output_type": "stream",
     "text": [
      "(27675, 23)\n"
     ]
    }
   ],
   "source": [
    "movies=movies[pd.notnull(movies['description'])]\r\n",
    "movies = movies[movies['avg_vote'] > 6.5]\r\n",
    "movies=movies.reset_index(drop=True)\r\n",
    "movies['id']=movies.index\r\n",
    "\r\n",
    "print(movies.shape)"
   ]
  },
  {
   "cell_type": "code",
   "execution_count": 161,
   "metadata": {},
   "outputs": [
    {
     "data": {
      "text/html": "<div>\n<style scoped>\n    .dataframe tbody tr th:only-of-type {\n        vertical-align: middle;\n    }\n\n    .dataframe tbody tr th {\n        vertical-align: top;\n    }\n\n    .dataframe thead th {\n        text-align: right;\n    }\n</style>\n<table border=\"1\" class=\"dataframe\">\n  <thead>\n    <tr style=\"text-align: right;\">\n      <th></th>\n      <th>imdb_title_id</th>\n      <th>title</th>\n      <th>original_title</th>\n      <th>year</th>\n      <th>date_published</th>\n      <th>genre</th>\n      <th>duration</th>\n      <th>country</th>\n      <th>language</th>\n      <th>director</th>\n      <th>...</th>\n      <th>description</th>\n      <th>avg_vote</th>\n      <th>votes</th>\n      <th>budget</th>\n      <th>usa_gross_income</th>\n      <th>worlwide_gross_income</th>\n      <th>metascore</th>\n      <th>reviews_from_users</th>\n      <th>reviews_from_critics</th>\n      <th>id</th>\n    </tr>\n  </thead>\n  <tbody>\n    <tr>\n      <th>0</th>\n      <td>tt0002130</td>\n      <td>L'Inferno</td>\n      <td>L'Inferno</td>\n      <td>1911</td>\n      <td>1911-03-06</td>\n      <td>Adventure, Drama, Fantasy</td>\n      <td>68</td>\n      <td>Italy</td>\n      <td>Italian</td>\n      <td>Francesco Bertolini, Adolfo Padovan</td>\n      <td>...</td>\n      <td>Loosely adapted from Dante's Divine Comedy and...</td>\n      <td>7.0</td>\n      <td>2237</td>\n      <td>NaN</td>\n      <td>NaN</td>\n      <td>NaN</td>\n      <td>NaN</td>\n      <td>31.0</td>\n      <td>14.0</td>\n      <td>0</td>\n    </tr>\n    <tr>\n      <th>1</th>\n      <td>tt0002423</td>\n      <td>Madame DuBarry</td>\n      <td>Madame DuBarry</td>\n      <td>1919</td>\n      <td>1919-11-26</td>\n      <td>Biography, Drama, Romance</td>\n      <td>85</td>\n      <td>Germany</td>\n      <td>German</td>\n      <td>Ernst Lubitsch</td>\n      <td>...</td>\n      <td>The story of Madame DuBarry, the mistress of L...</td>\n      <td>6.8</td>\n      <td>753</td>\n      <td>NaN</td>\n      <td>NaN</td>\n      <td>NaN</td>\n      <td>NaN</td>\n      <td>12.0</td>\n      <td>9.0</td>\n      <td>1</td>\n    </tr>\n    <tr>\n      <th>2</th>\n      <td>tt0002452</td>\n      <td>Independenta Romaniei</td>\n      <td>Independenta Romaniei</td>\n      <td>1912</td>\n      <td>1912-09-01</td>\n      <td>History, War</td>\n      <td>120</td>\n      <td>Romania</td>\n      <td>NaN</td>\n      <td>Aristide Demetriade, Grigore Brezeanu</td>\n      <td>...</td>\n      <td>The movie depicts the Romanian War of Independ...</td>\n      <td>6.7</td>\n      <td>198</td>\n      <td>ROL 400000</td>\n      <td>NaN</td>\n      <td>NaN</td>\n      <td>NaN</td>\n      <td>4.0</td>\n      <td>1.0</td>\n      <td>2</td>\n    </tr>\n    <tr>\n      <th>3</th>\n      <td>tt0002646</td>\n      <td>Atlantis</td>\n      <td>Atlantis</td>\n      <td>1913</td>\n      <td>1913-12-26</td>\n      <td>Drama</td>\n      <td>121</td>\n      <td>Denmark</td>\n      <td>Danish</td>\n      <td>August Blom</td>\n      <td>...</td>\n      <td>After Dr. Friedrich's wife becomes mentally un...</td>\n      <td>6.6</td>\n      <td>331</td>\n      <td>NaN</td>\n      <td>NaN</td>\n      <td>NaN</td>\n      <td>NaN</td>\n      <td>9.0</td>\n      <td>9.0</td>\n      <td>3</td>\n    </tr>\n    <tr>\n      <th>4</th>\n      <td>tt0002844</td>\n      <td>Fantômas - À l'ombre de la guillotine</td>\n      <td>Fantômas - À l'ombre de la guillotine</td>\n      <td>1913</td>\n      <td>1913-05-12</td>\n      <td>Crime, Drama</td>\n      <td>54</td>\n      <td>France</td>\n      <td>French</td>\n      <td>Louis Feuillade</td>\n      <td>...</td>\n      <td>Inspector Juve is tasked to investigate and ca...</td>\n      <td>7.0</td>\n      <td>1944</td>\n      <td>NaN</td>\n      <td>NaN</td>\n      <td>NaN</td>\n      <td>NaN</td>\n      <td>9.0</td>\n      <td>28.0</td>\n      <td>4</td>\n    </tr>\n  </tbody>\n</table>\n<p>5 rows × 23 columns</p>\n</div>",
      "text/plain": "  imdb_title_id                                  title  \\\n0     tt0002130                              L'Inferno   \n1     tt0002423                         Madame DuBarry   \n2     tt0002452                  Independenta Romaniei   \n3     tt0002646                               Atlantis   \n4     tt0002844  Fantômas - À l'ombre de la guillotine   \n\n                          original_title  year date_published  \\\n0                              L'Inferno  1911     1911-03-06   \n1                         Madame DuBarry  1919     1919-11-26   \n2                  Independenta Romaniei  1912     1912-09-01   \n3                               Atlantis  1913     1913-12-26   \n4  Fantômas - À l'ombre de la guillotine  1913     1913-05-12   \n\n                       genre  duration  country language  \\\n0  Adventure, Drama, Fantasy        68    Italy  Italian   \n1  Biography, Drama, Romance        85  Germany   German   \n2               History, War       120  Romania      NaN   \n3                      Drama       121  Denmark   Danish   \n4               Crime, Drama        54   France   French   \n\n                                director  ...  \\\n0    Francesco Bertolini, Adolfo Padovan  ...   \n1                         Ernst Lubitsch  ...   \n2  Aristide Demetriade, Grigore Brezeanu  ...   \n3                            August Blom  ...   \n4                        Louis Feuillade  ...   \n\n                                         description avg_vote votes  \\\n0  Loosely adapted from Dante's Divine Comedy and...      7.0  2237   \n1  The story of Madame DuBarry, the mistress of L...      6.8   753   \n2  The movie depicts the Romanian War of Independ...      6.7   198   \n3  After Dr. Friedrich's wife becomes mentally un...      6.6   331   \n4  Inspector Juve is tasked to investigate and ca...      7.0  1944   \n\n       budget  usa_gross_income  worlwide_gross_income metascore  \\\n0         NaN               NaN                    NaN       NaN   \n1         NaN               NaN                    NaN       NaN   \n2  ROL 400000               NaN                    NaN       NaN   \n3         NaN               NaN                    NaN       NaN   \n4         NaN               NaN                    NaN       NaN   \n\n  reviews_from_users reviews_from_critics  id  \n0               31.0                 14.0   0  \n1               12.0                  9.0   1  \n2                4.0                  1.0   2  \n3                9.0                  9.0   3  \n4                9.0                 28.0   4  \n\n[5 rows x 23 columns]"
     },
     "execution_count": 161,
     "metadata": {},
     "output_type": "execute_result"
    }
   ],
   "source": [
    "movies.head(5)"
   ]
  },
  {
   "cell_type": "code",
   "execution_count": 18,
   "metadata": {},
   "outputs": [
    {
     "data": {
      "text/plain": "<AxesSubplot:>"
     },
     "execution_count": 18,
     "metadata": {},
     "output_type": "execute_result"
    },
    {
     "data": {
      "image/png": "[encoded data removed]",
      "text/plain": "<Figure size 720x720 with 2 Axes>"
     },
     "metadata": {
      "needs_background": "light"
     },
     "output_type": "display_data"
    }
   ],
   "source": [
    "import matplotlib.pyplot as plt\r\n",
    "import seaborn as sns\r\n",
    "\r\n",
    "plt.figure(figsize=(10,10))\r\n",
    "corr = movies.corr()\r\n",
    "sns.heatmap(data=corr, square=True , annot=True, cbar=True,linewidth=2)"
   ]
  },
  {
   "cell_type": "code",
   "execution_count": 162,
   "metadata": {},
   "outputs": [
    {
     "name": "stderr",
     "output_type": "stream",
     "text": [
      "<ipython-input-162-6d1ca68b8a8d>:7: SettingWithCopyWarning: \n",
      "A value is trying to be set on a copy of a slice from a DataFrame\n",
      "\n",
      "See the caveats in the documentation: https://pandas.pydata.org/pandas-docs/stable/user_guide/indexing.html#returning-a-view-versus-a-copy\n",
      "  movies['genre'][i] = list(map(str.strip, r))\n"
     ]
    },
    {
     "name": "stdout",
     "output_type": "stream",
     "text": [
      "Adventure\n"
     ]
    },
    {
     "name": "stderr",
     "output_type": "stream",
     "text": [
      "<ipython-input-162-6d1ca68b8a8d>:16: SettingWithCopyWarning: \n",
      "A value is trying to be set on a copy of a slice from a DataFrame\n",
      "\n",
      "See the caveats in the documentation: https://pandas.pydata.org/pandas-docs/stable/user_guide/indexing.html#returning-a-view-versus-a-copy\n",
      "  movies['writer'][i] = list(map(str.strip, r))\n"
     ]
    },
    {
     "name": "stdout",
     "output_type": "stream",
     "text": [
      "Dante Alighieri\n"
     ]
    },
    {
     "name": "stderr",
     "output_type": "stream",
     "text": [
      "<ipython-input-162-6d1ca68b8a8d>:25: SettingWithCopyWarning: \n",
      "A value is trying to be set on a copy of a slice from a DataFrame\n",
      "\n",
      "See the caveats in the documentation: https://pandas.pydata.org/pandas-docs/stable/user_guide/indexing.html#returning-a-view-versus-a-copy\n",
      "  movies['director'][i] = list(map(str.strip, r))\n"
     ]
    },
    {
     "name": "stdout",
     "output_type": "stream",
     "text": [
      "Francesco Bertolini\n"
     ]
    }
   ],
   "source": [
    "import itertools\r\n",
    "import numpy as np\r\n",
    "\r\n",
    "movies['genre'] = movies['genre'].fillna('')\r\n",
    "for i in range(movies['genre'].size):\r\n",
    "    r=movies['genre'][i].split(\",\")\r\n",
    "    movies['genre'][i] = list(map(str.strip, r))\r\n",
    "    \r\n",
    "\r\n",
    "print(movies['genre'][0][0])\r\n",
    "\r\n",
    "\r\n",
    "movies['writer'] = movies['writer'].fillna('')\r\n",
    "for i in range(movies['writer'].size):\r\n",
    "    r=movies['writer'][i].split(\",\")\r\n",
    "    movies['writer'][i] = list(map(str.strip, r))\r\n",
    "    \r\n",
    "\r\n",
    "print(movies['writer'][0][0])\r\n",
    "\r\n",
    "\r\n",
    "movies['director'] = movies['director'].fillna('')\r\n",
    "for i in range(movies['director'].size):\r\n",
    "    r=movies['director'][i].split(\",\")\r\n",
    "    movies['director'][i] = list(map(str.strip, r))\r\n",
    "    \r\n",
    "\r\n",
    "print(movies['director'][0][0])"
   ]
  },
  {
   "cell_type": "code",
   "execution_count": 163,
   "metadata": {},
   "outputs": [
    {
     "name": "stdout",
     "output_type": "stream",
     "text": [
      "0        [Adventure, Drama, Fantasy]\n",
      "1        [Biography, Drama, Romance]\n",
      "2                     [History, War]\n",
      "3                            [Drama]\n",
      "4                     [Crime, Drama]\n",
      "                    ...             \n",
      "27670                        [Drama]\n",
      "27671                        [Drama]\n",
      "27672                [Comedy, Drama]\n",
      "27673                [Comedy, Drama]\n",
      "27674                        [Drama]\n",
      "Name: genre, Length: 27675, dtype: object\n",
      "['Action' 'Adventure' 'Animation' 'Biography' 'Comedy' 'Crime'\n",
      " 'Documentary' 'Drama' 'Family' 'Fantasy' 'Film-Noir' 'History' 'Horror'\n",
      " 'Music' 'Musical' 'Mystery' 'Reality-TV' 'Romance' 'Sci-Fi' 'Sport'\n",
      " 'Thriller' 'War' 'Western']\n",
      "0                         [Dante Alighieri]\n",
      "1               [Norbert Falk, Hanns Kräly]\n",
      "2        [Aristide Demetriade, Petre Liciu]\n",
      "3           [Axel Garde, Gerhart Hauptmann]\n",
      "4          [Marcel Allain, Louis Feuillade]\n",
      "                        ...                \n",
      "27670                    [Rajesh k Narayan]\n",
      "27671                       [T.V. Chandran]\n",
      "27672                                    []\n",
      "27673        [Radek Bajgar, Herman Finkers]\n",
      "27674                [Coral Cruz, Pep Puig]\n",
      "Name: writer, Length: 27675, dtype: object\n",
      "['' \"'A.J.' Marriot\" \"'Weird Al' Yankovic\" ... 'Ümit Köreken' 'Ümit Ünal'\n",
      " 'Þráinn Bertelsson']\n",
      "0          [Francesco Bertolini, Adolfo Padovan]\n",
      "1                               [Ernst Lubitsch]\n",
      "2        [Aristide Demetriade, Grigore Brezeanu]\n",
      "3                                  [August Blom]\n",
      "4                              [Louis Feuillade]\n",
      "                          ...                   \n",
      "27670                                      [Zam]\n",
      "27671                            [T.V. Chandran]\n",
      "27672                              [Anvar Sadik]\n",
      "27673                          [Johan Nijenhuis]\n",
      "27674                                [Laura Jou]\n",
      "Name: director, Length: 27675, dtype: object\n",
      "['' 'A. Balakrishnan' 'A. Bhimsingh' ... 'Ümit Ünal' 'Þráinn Bertelsson'\n",
      " 'Þórhildur Þorleifsdóttir']\n"
     ]
    }
   ],
   "source": [
    "print(movies['genre'])\r\n",
    "genre =  np.unique([*itertools.chain.from_iterable(movies['genre'])])\r\n",
    "print(genre)\r\n",
    "\r\n",
    "print(movies['writer'])\r\n",
    "writer =  np.unique([*itertools.chain.from_iterable(movies['writer'])])\r\n",
    "print(writer)\r\n",
    "\r\n",
    "print(movies['director'])\r\n",
    "director =  np.unique([*itertools.chain.from_iterable(movies['director'])])\r\n",
    "print(director)"
   ]
  },
  {
   "cell_type": "code",
   "execution_count": 164,
   "metadata": {},
   "outputs": [],
   "source": [
    "from sklearn import preprocessing\r\n",
    "\r\n",
    "label_encoder = preprocessing.LabelEncoder()\r\n",
    "\r\n",
    "label_encoder.fit(genre)\r\n",
    "genre_encoded = movies[\"genre\"].apply(lambda x:label_encoder.transform(x))\r\n",
    "movies['encoded_genre'] = genre_encoded\r\n",
    "\r\n",
    "label_encoder.fit(writer)\r\n",
    "writer_encoded = movies[\"writer\"].apply(lambda x:label_encoder.transform(x))\r\n",
    "movies['writer_encoded'] = writer_encoded\r\n",
    "\r\n",
    "\r\n",
    "label_encoder.fit(director)\r\n",
    "director_encoded = movies[\"director\"].apply(lambda x:label_encoder.transform(x))\r\n",
    "movies['director_encoded'] = director_encoded\r\n"
   ]
  }
 ],
 "metadata": {
  "kernelspec": {
   "display_name": "Python 3",
   "language": "python",
   "name": "python3"
  },
  "language_info": {
   "name": "python",
   "version": ""
  }
 },
 "nbformat": 4,
 "nbformat_minor": 0
}