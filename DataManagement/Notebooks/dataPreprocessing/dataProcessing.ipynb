{
 "cells": [
  {
   "cell_type": "markdown",
   "metadata": {},
   "source": [
    "in this notebook we will import the IMDB data and preprocess it before saving it into a new CSV that is ready to be used in our code."
   ]
  },
  {
   "cell_type": "code",
   "execution_count": 1,
   "metadata": {
    "collapsed": true
   },
   "outputs": [],
   "source": [
    "import pandas as pd\r\n",
    "import datetime as dt\r\n",
    "\r\n",
    "movies = pd.read_csv('../../../Resources/IMDb_movies.csv',low_memory=False)"
   ]
  },
  {
   "cell_type": "code",
   "execution_count": null,
   "metadata": {},
   "outputs": [],
   "source": []
  },
  {
   "cell_type": "markdown",
   "metadata": {},
   "source": [
    "at first we will drop all movies with rating less than 6.5 as they are less likely to be liked with the user."
   ]
  },
  {
   "cell_type": "code",
   "execution_count": 2,
   "metadata": {
    "collapsed": false,
    "pycharm": {
     "name": "#%%\n"
    }
   },
   "outputs": [
    {
     "name": "stdout",
     "output_type": "stream",
     "text": [
      "(65754, 23)\n"
     ]
    }
   ],
   "source": [
    "movies=movies[pd.notnull(movies['description'])]\r\n",
    "movies = movies[movies['avg_vote'] > 5]\r\n",
    "movies=movies.reset_index(drop=True)\r\n",
    "movies['id']=movies.index\r\n",
    "\r\n",
    "print(movies.shape)"
   ]
  },
  {
   "cell_type": "markdown",
   "metadata": {},
   "source": [
    "exploring the data "
   ]
  },
  {
   "cell_type": "code",
   "execution_count": null,
   "metadata": {},
   "outputs": [],
   "source": [
    "movies.head(5)"
   ]
  },
  {
   "cell_type": "code",
   "execution_count": null,
   "metadata": {},
   "outputs": [],
   "source": [
    "import matplotlib.pyplot as plt\r\n",
    "import seaborn as sns\r\n",
    "\r\n",
    "plt.figure(figsize=(10,10))\r\n",
    "corr = movies.corr()\r\n",
    "sns.heatmap(data=corr, square=True , annot=True, cbar=True,linewidth=2)"
   ]
  },
  {
   "cell_type": "code",
   "execution_count": 3,
   "metadata": {},
   "outputs": [
    {
     "name": "stderr",
     "output_type": "stream",
     "text": [
      "<ipython-input-3-95b8c8d7d673>:4: SettingWithCopyWarning: \n",
      "A value is trying to be set on a copy of a slice from a DataFrame\n",
      "\n",
      "See the caveats in the documentation: https://pandas.pydata.org/pandas-docs/stable/user_guide/indexing.html#returning-a-view-versus-a-copy\n",
      "  movies['genre'][i] = list(map(str.strip, r))\n"
     ]
    }
   ],
   "source": [
    "movies['genre'] = movies['genre'].fillna('')\r\n",
    "for i in range(movies['genre'].size):\r\n",
    "    r=movies['genre'][i].split(\",\")\r\n",
    "    movies['genre'][i] = list(map(str.strip, r))\r\n",
    "    \r\n",
    "\r\n",
    "print(movies['genre'][0][0])"
   ]
  },
  {
   "cell_type": "code",
   "execution_count": 6,
   "metadata": {},
   "outputs": [
    {
     "name": "stdout",
     "output_type": "stream",
     "text": [
      "0                          [Romance]\n",
      "1          [Biography, Crime, Drama]\n",
      "2                            [Drama]\n",
      "3                   [Drama, History]\n",
      "4        [Adventure, Drama, Fantasy]\n",
      "                    ...             \n",
      "65749                        [Drama]\n",
      "65750                [Comedy, Drama]\n",
      "65751                       [Comedy]\n",
      "65752                [Comedy, Drama]\n",
      "65753                        [Drama]\n",
      "Name: genre, Length: 65754, dtype: object\n",
      "['Action' 'Adventure' 'Animation' 'Biography' 'Comedy' 'Crime'\n",
      " 'Documentary' 'Drama' 'Family' 'Fantasy' 'Film-Noir' 'History' 'Horror'\n",
      " 'Music' 'Musical' 'Mystery' 'News' 'Reality-TV' 'Romance' 'Sci-Fi'\n",
      " 'Sport' 'Thriller' 'War' 'Western']\n"
     ]
    }
   ],
   "source": [
    "import itertools\r\n",
    "import numpy as np\r\n",
    "print(movies['genre'])\r\n",
    "genre =  np.unique([*itertools.chain.from_iterable(movies['genre'])])\r\n",
    "print(genre)\r\n"
   ]
  },
  {
   "cell_type": "code",
   "execution_count": 8,
   "metadata": {},
   "outputs": [],
   "source": [
    "np.save(\"../../../Resources/genre.npy\",genre)"
   ]
  },
  {
   "cell_type": "markdown",
   "metadata": {},
   "source": [
    "we will transalte the actors/direcotrs/genres to numaric values that we can use."
   ]
  },
  {
   "cell_type": "code",
   "execution_count": null,
   "metadata": {},
   "outputs": [],
   "source": [
    "import itertools\r\n",
    "import numpy as np\r\n",
    "\r\n",
    "movies['genre'] = movies['genre'].fillna('')\r\n",
    "for i in range(movies['genre'].size):\r\n",
    "    r=movies['genre'][i].split(\",\")\r\n",
    "    movies['genre'][i] = list(map(str.strip, r))\r\n",
    "    \r\n",
    "\r\n",
    "print(movies['genre'][0][0])\r\n",
    "\r\n",
    "\r\n",
    "movies['writer'] = movies['writer'].fillna('')\r\n",
    "for i in range(movies['writer'].size):\r\n",
    "    r=movies['writer'][i].split(\",\")\r\n",
    "    movies['writer'][i] = list(map(str.strip, r))\r\n",
    "    \r\n",
    "\r\n",
    "print(movies['writer'][0][0])\r\n",
    "\r\n",
    "\r\n",
    "movies['director'] = movies['director'].fillna('')\r\n",
    "for i in range(movies['director'].size):\r\n",
    "    r=movies['director'][i].split(\",\")\r\n",
    "    movies['director'][i] = list(map(str.strip, r))\r\n",
    "    \r\n",
    "\r\n",
    "print(movies['director'][0][0])\r\n",
    "\r\n",
    "movies['language'] = movies['language'].fillna('')\r\n",
    "for i in range(movies['language'].size):\r\n",
    "    r=movies['language'][i].split(\",\")\r\n",
    "    movies['language'][i] = list(map(str.strip, r))\r\n",
    "    \r\n",
    "\r\n",
    "print(movies['language'][0][0])\r\n",
    "\r\n"
   ]
  },
  {
   "cell_type": "code",
   "execution_count": null,
   "metadata": {},
   "outputs": [],
   "source": [
    "print(movies['genre'])\r\n",
    "genre =  np.unique([*itertools.chain.from_iterable(movies['genre'])])\r\n",
    "print(genre)\r\n",
    "\r\n",
    "print(movies['writer'])\r\n",
    "writer =  np.unique([*itertools.chain.from_iterable(movies['writer'])])\r\n",
    "print(writer)\r\n",
    "\r\n",
    "print(movies['director'])\r\n",
    "director =  np.unique([*itertools.chain.from_iterable(movies['director'])])\r\n",
    "print(director)\r\n",
    "\r\n",
    "print(movies['language'])\r\n",
    "language =  np.unique([*itertools.chain.from_iterable(movies['language'])])\r\n",
    "print(language)"
   ]
  },
  {
   "cell_type": "code",
   "execution_count": null,
   "metadata": {},
   "outputs": [],
   "source": [
    "from sklearn import preprocessing\r\n",
    "\r\n",
    "label_encoder = preprocessing.LabelEncoder()\r\n",
    "\r\n",
    "label_encoder.fit(genre)\r\n",
    "genre_encoded = movies[\"genre\"].apply(lambda x:label_encoder.transform(x))\r\n",
    "movies['encoded_genre'] = genre_encoded\r\n",
    "\r\n",
    "label_encoder.fit(writer)\r\n",
    "writer_encoded = movies[\"writer\"].apply(lambda x:label_encoder.transform(x))\r\n",
    "movies['writer_encoded'] = writer_encoded\r\n",
    "\r\n",
    "\r\n",
    "label_encoder.fit(director)\r\n",
    "director_encoded = movies[\"director\"].apply(lambda x:label_encoder.transform(x))\r\n",
    "movies['director_encoded'] = director_encoded\r\n",
    "\r\n",
    "\r\n",
    "label_encoder.fit(language)\r\n",
    "language_encoded = movies[\"language\"].apply(lambda x:label_encoder.transform(x))\r\n",
    "movies['language_encoded'] = language_encoded\r\n"
   ]
  },
  {
   "cell_type": "code",
   "execution_count": null,
   "metadata": {},
   "outputs": [],
   "source": [
    "movies.head(5)\r\n",
    "movies.shape"
   ]
  },
  {
   "cell_type": "code",
   "execution_count": 3,
   "metadata": {},
   "outputs": [],
   "source": [
    "rating = pd.read_csv('../../../Resources/IMDb_ratings.csv',low_memory=False)\r\n",
    "movies = pd.merge(movies, rating, on=\"imdb_title_id\")"
   ]
  },
  {
   "cell_type": "code",
   "execution_count": 4,
   "metadata": {},
   "outputs": [
    {
     "data": {
      "text/plain": "Index(['imdb_title_id', 'weighted_average_vote', 'total_votes', 'mean_vote',\n       'median_vote', 'votes_10', 'votes_9', 'votes_8', 'votes_7', 'votes_6',\n       'votes_5', 'votes_4', 'votes_3', 'votes_2', 'votes_1',\n       'allgenders_0age_avg_vote', 'allgenders_0age_votes',\n       'allgenders_18age_avg_vote', 'allgenders_18age_votes',\n       'allgenders_30age_avg_vote', 'allgenders_30age_votes',\n       'allgenders_45age_avg_vote', 'allgenders_45age_votes',\n       'males_allages_avg_vote', 'males_allages_votes', 'males_0age_avg_vote',\n       'males_0age_votes', 'males_18age_avg_vote', 'males_18age_votes',\n       'males_30age_avg_vote', 'males_30age_votes', 'males_45age_avg_vote',\n       'males_45age_votes', 'females_allages_avg_vote',\n       'females_allages_votes', 'females_0age_avg_vote', 'females_0age_votes',\n       'females_18age_avg_vote', 'females_18age_votes',\n       'females_30age_avg_vote', 'females_30age_votes',\n       'females_45age_avg_vote', 'females_45age_votes',\n       'top1000_voters_rating', 'top1000_voters_votes', 'us_voters_rating',\n       'us_voters_votes', 'non_us_voters_rating', 'non_us_voters_votes'],\n      dtype='object')"
     },
     "execution_count": 4,
     "metadata": {},
     "output_type": "execute_result"
    }
   ],
   "source": [
    "rating.columns"
   ]
  },
  {
   "cell_type": "code",
   "execution_count": null,
   "metadata": {},
   "outputs": [],
   "source": [
    "movies.to_csv(\"../../../Resources/modified_movies.csv\")"
   ]
  }
 ],
 "metadata": {
  "kernelspec": {
   "display_name": "Python 3.9.0 64-bit",
   "name": "python390jvsc74a57bd0103d228d900514cf9bf4cf07f7e0d72e82c9d2a57a7849b1db6677865dfe2365"
  },
  "language_info": {
   "codemirror_mode": {
    "name": "ipython",
    "version": 3
   },
   "file_extension": ".py",
   "mimetype": "text/x-python",
   "name": "python",
   "nbconvert_exporter": "python",
   "pygments_lexer": "ipython3",
   "version": "3.9.0"
  },
  "orig_nbformat": 3
 },
 "nbformat": 4,
 "nbformat_minor": 0
}