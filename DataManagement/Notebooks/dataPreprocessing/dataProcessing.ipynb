{
 "cells": [
  {
   "cell_type": "markdown",
   "metadata": {},
   "source": [
    "in this notebook we will import the IMDB data and preprocess it before saving it into a new CSV that is ready to be used in our code."
   ]
  },
  {
   "cell_type": "code",
   "execution_count": 1,
   "metadata": {
    "collapsed": true
   },
   "outputs": [],
   "source": [
    "import pandas as pd\n",
    "import datetime as dt\n",
    "\n",
    "movies = pd.read_csv('../../../Resources/IMDb_movies.csv',low_memory=False)"
   ]
  },
  {
   "cell_type": "code",
   "execution_count": null,
   "metadata": {},
   "outputs": [],
   "source": []
  },
  {
   "cell_type": "markdown",
   "metadata": {},
   "source": [
    "at first we will drop all movies with rating less than 6.5 as they are less likely to be liked with the user."
   ]
  },
  {
   "cell_type": "code",
   "execution_count": 2,
   "metadata": {
    "collapsed": false,
    "pycharm": {
     "name": "#%%\n"
    }
   },
   "outputs": [
    {
     "name": "stdout",
     "output_type": "stream",
     "text": [
      "(65754, 23)\n"
     ]
    }
   ],
   "source": [
    "movies=movies[pd.notnull(movies['description'])]\n",
    "movies = movies[movies['avg_vote'] > 5]\n",
    "movies=movies.reset_index(drop=True)\n",
    "movies['id']=movies.index\n",
    "\n",
    "print(movies.shape)"
   ]
  },
  {
   "cell_type": "markdown",
   "metadata": {},
   "source": [
    "exploring the data "
   ]
  },
  {
   "cell_type": "code",
   "execution_count": null,
   "metadata": {},
   "outputs": [],
   "source": [
    "movies.head(5)"
   ]
  },
  {
   "cell_type": "code",
   "execution_count": null,
   "metadata": {},
   "outputs": [],
   "source": [
    "import matplotlib.pyplot as plt\n",
    "import seaborn as sns\n",
    "\n",
    "plt.figure(figsize=(10,10))\n",
    "corr = movies.corr()\n",
    "sns.heatmap(data=corr, square=True , annot=True, cbar=True,linewidth=2)"
   ]
  },
  {
   "cell_type": "code",
   "execution_count": 3,
   "metadata": {},
   "outputs": [
    {
     "name": "stderr",
     "output_type": "stream",
     "text": [
      "<ipython-input-3-95b8c8d7d673>:4: SettingWithCopyWarning: \n",
      "A value is trying to be set on a copy of a slice from a DataFrame\n",
      "\n",
      "See the caveats in the documentation: https://pandas.pydata.org/pandas-docs/stable/user_guide/indexing.html#returning-a-view-versus-a-copy\n",
      "  movies['genre'][i] = list(map(str.strip, r))\n"
     ]
    }
   ],
   "source": [
    "movies['genre'] = movies['genre'].fillna('')\n",
    "for i in range(movies['genre'].size):\n",
    "    r=movies['genre'][i].split(\",\")\n",
    "    movies['genre'][i] = list(map(str.strip, r))\n",
    "    \n",
    "\n",
    "print(movies['genre'][0][0])"
   ]
  },
  {
   "cell_type": "code",
   "execution_count": 6,
   "metadata": {},
   "outputs": [
    {
     "name": "stdout",
     "output_type": "stream",
     "text": [
      "0                          [Romance]\n",
      "1          [Biography, Crime, Drama]\n",
      "2                            [Drama]\n",
      "3                   [Drama, History]\n",
      "4        [Adventure, Drama, Fantasy]\n",
      "                    ...             \n",
      "65749                        [Drama]\n",
      "65750                [Comedy, Drama]\n",
      "65751                       [Comedy]\n",
      "65752                [Comedy, Drama]\n",
      "65753                        [Drama]\n",
      "Name: genre, Length: 65754, dtype: object\n",
      "['Action' 'Adventure' 'Animation' 'Biography' 'Comedy' 'Crime'\n",
      " 'Documentary' 'Drama' 'Family' 'Fantasy' 'Film-Noir' 'History' 'Horror'\n",
      " 'Music' 'Musical' 'Mystery' 'News' 'Reality-TV' 'Romance' 'Sci-Fi'\n",
      " 'Sport' 'Thriller' 'War' 'Western']\n"
     ]
    }
   ],
   "source": [
    "import itertools\n",
    "import numpy as np\n",
    "print(movies['genre'])\n",
    "genre =  np.unique([*itertools.chain.from_iterable(movies['genre'])])\n",
    "print(genre)\n"
   ]
  },
  {
   "cell_type": "code",
   "execution_count": 8,
   "metadata": {},
   "outputs": [],
   "source": [
    "np.save(\"../../../Resources/genre.npy\",genre)"
   ]
  },
  {
   "cell_type": "markdown",
   "metadata": {},
   "source": [
    "we will transalte the actors/direcotrs/genres to numaric values that we can use."
   ]
  },
  {
   "cell_type": "code",
   "execution_count": null,
   "metadata": {},
   "outputs": [],
   "source": [
    "import itertools\n",
    "import numpy as np\n",
    "\n",
    "movies['genre'] = movies['genre'].fillna('')\n",
    "for i in range(movies['genre'].size):\n",
    "    r=movies['genre'][i].split(\",\")\n",
    "    movies['genre'][i] = list(map(str.strip, r))\n",
    "    \n",
    "\n",
    "print(movies['genre'][0][0])\n",
    "\n",
    "\n",
    "movies['writer'] = movies['writer'].fillna('')\n",
    "for i in range(movies['writer'].size):\n",
    "    r=movies['writer'][i].split(\",\")\n",
    "    movies['writer'][i] = list(map(str.strip, r))\n",
    "    \n",
    "\n",
    "print(movies['writer'][0][0])\n",
    "\n",
    "\n",
    "movies['director'] = movies['director'].fillna('')\n",
    "for i in range(movies['director'].size):\n",
    "    r=movies['director'][i].split(\",\")\n",
    "    movies['director'][i] = list(map(str.strip, r))\n",
    "    \n",
    "\n",
    "print(movies['director'][0][0])\n",
    "\n",
    "movies['language'] = movies['language'].fillna('')\n",
    "for i in range(movies['language'].size):\n",
    "    r=movies['language'][i].split(\",\")\n",
    "    movies['language'][i] = list(map(str.strip, r))\n",
    "    \n",
    "\n",
    "print(movies['language'][0][0])\n",
    "\n"
   ]
  },
  {
   "cell_type": "code",
   "execution_count": null,
   "metadata": {},
   "outputs": [],
   "source": [
    "print(movies['genre'])\n",
    "genre =  np.unique([*itertools.chain.from_iterable(movies['genre'])])\n",
    "print(genre)\n",
    "\n",
    "print(movies['writer'])\n",
    "writer =  np.unique([*itertools.chain.from_iterable(movies['writer'])])\n",
    "print(writer)\n",
    "\n",
    "print(movies['director'])\n",
    "director =  np.unique([*itertools.chain.from_iterable(movies['director'])])\n",
    "print(director)\n",
    "\n",
    "print(movies['language'])\n",
    "language =  np.unique([*itertools.chain.from_iterable(movies['language'])])\n",
    "print(language)"
   ]
  },
  {
   "cell_type": "code",
   "execution_count": null,
   "metadata": {},
   "outputs": [],
   "source": [
    "from sklearn import preprocessing\n",
    "\n",
    "label_encoder = preprocessing.LabelEncoder()\n",
    "\n",
    "label_encoder.fit(genre)\n",
    "genre_encoded = movies[\"genre\"].apply(lambda x:label_encoder.transform(x))\n",
    "movies['encoded_genre'] = genre_encoded\n",
    "\n",
    "label_encoder.fit(writer)\n",
    "writer_encoded = movies[\"writer\"].apply(lambda x:label_encoder.transform(x))\n",
    "movies['writer_encoded'] = writer_encoded\n",
    "\n",
    "\n",
    "label_encoder.fit(director)\n",
    "director_encoded = movies[\"director\"].apply(lambda x:label_encoder.transform(x))\n",
    "movies['director_encoded'] = director_encoded\n",
    "\n",
    "\n",
    "label_encoder.fit(language)\n",
    "language_encoded = movies[\"language\"].apply(lambda x:label_encoder.transform(x))\n",
    "movies['language_encoded'] = language_encoded\n"
   ]
  },
  {
   "cell_type": "code",
   "execution_count": null,
   "metadata": {},
   "outputs": [],
   "source": [
    "movies.head(5)\n",
    "movies.shape"
   ]
  },
  {
   "cell_type": "code",
   "execution_count": 3,
   "metadata": {},
   "outputs": [],
   "source": [
    "rating = pd.read_csv('../../../Resources/IMDb_ratings.csv',low_memory=False)\n",
    "movies = pd.merge(movies, rating, on=\"imdb_title_id\")"
   ]
  },
  {
   "cell_type": "code",
   "execution_count": 4,
   "metadata": {},
   "outputs": [
    {
     "data": {
      "text/plain": "Index(['imdb_title_id', 'weighted_average_vote', 'total_votes', 'mean_vote',\n       'median_vote', 'votes_10', 'votes_9', 'votes_8', 'votes_7', 'votes_6',\n       'votes_5', 'votes_4', 'votes_3', 'votes_2', 'votes_1',\n       'allgenders_0age_avg_vote', 'allgenders_0age_votes',\n       'allgenders_18age_avg_vote', 'allgenders_18age_votes',\n       'allgenders_30age_avg_vote', 'allgenders_30age_votes',\n       'allgenders_45age_avg_vote', 'allgenders_45age_votes',\n       'males_allages_avg_vote', 'males_allages_votes', 'males_0age_avg_vote',\n       'males_0age_votes', 'males_18age_avg_vote', 'males_18age_votes',\n       'males_30age_avg_vote', 'males_30age_votes', 'males_45age_avg_vote',\n       'males_45age_votes', 'females_allages_avg_vote',\n       'females_allages_votes', 'females_0age_avg_vote', 'females_0age_votes',\n       'females_18age_avg_vote', 'females_18age_votes',\n       'females_30age_avg_vote', 'females_30age_votes',\n       'females_45age_avg_vote', 'females_45age_votes',\n       'top1000_voters_rating', 'top1000_voters_votes', 'us_voters_rating',\n       'us_voters_votes', 'non_us_voters_rating', 'non_us_voters_votes'],\n      dtype='object')"
     },
     "execution_count": 4,
     "metadata": {},
     "output_type": "execute_result"
    }
   ],
   "source": [
    "rating.columns"
   ]
  },
  {
   "cell_type": "code",
   "execution_count": null,
   "metadata": {},
   "outputs": [],
   "source": [
    "movies.sort_values(by=['total_votes'], inplace=True, ascending=False)\n",
    "movies.to_csv(\"../../../Resources/modified_movies.csv\")"
   ]
  },
  {
   "cell_type": "code",
   "execution_count": null,
   "outputs": [],
   "source": [
    "sub_movies = movies[movies['language'].str.contains('English', case=False)]\n",
    "sub_movies.reset_index(drop=True, inplace=True)\n",
    "sub_movies.to_csv('Resources/sub_movies.csv')\n"
   ],
   "metadata": {
    "collapsed": false,
    "pycharm": {
     "name": "#%%\n"
    }
   }
  }
 ],
 "metadata": {
  "kernelspec": {
   "display_name": "Python 3.9.0 64-bit",
   "name": "python390jvsc74a57bd0103d228d900514cf9bf4cf07f7e0d72e82c9d2a57a7849b1db6677865dfe2365"
  },
  "language_info": {
   "codemirror_mode": {
    "name": "ipython",
    "version": 3
   },
   "file_extension": ".py",
   "mimetype": "text/x-python",
   "name": "python",
   "nbconvert_exporter": "python",
   "pygments_lexer": "ipython3",
   "version": "3.9.0"
  },
  "orig_nbformat": 3
 },
 "nbformat": 4,
 "nbformat_minor": 0
}