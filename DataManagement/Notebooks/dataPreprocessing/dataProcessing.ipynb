{
 "cells": [
  {
   "cell_type": "markdown",
   "metadata": {},
   "source": [
    "in this notebook we will import the IMDB data and preprocess it before saving it into a new CSV that is ready to be used in our code."
   ]
  },
  {
   "cell_type": "code",
   "execution_count": 2,
   "metadata": {
    "collapsed": true
   },
   "outputs": [
    {
     "ename": "NameError",
     "evalue": "name 'movies' is not defined",
     "output_type": "error",
     "traceback": [
      "\u001B[1;31m---------------------------------------------------------------------------\u001B[0m",
      "\u001B[1;31mNameError\u001B[0m                                 Traceback (most recent call last)",
      "\u001B[1;32m<ipython-input-2-547746be219b>\u001B[0m in \u001B[0;36m<module>\u001B[1;34m\u001B[0m\n\u001B[1;32m----> 1\u001B[1;33m \u001B[0mmovies\u001B[0m\u001B[1;33m=\u001B[0m\u001B[0mmovies\u001B[0m\u001B[1;33m[\u001B[0m\u001B[0mpd\u001B[0m\u001B[1;33m.\u001B[0m\u001B[0mnotnull\u001B[0m\u001B[1;33m(\u001B[0m\u001B[0mmovies\u001B[0m\u001B[1;33m[\u001B[0m\u001B[1;34m'description'\u001B[0m\u001B[1;33m]\u001B[0m\u001B[1;33m)\u001B[0m\u001B[1;33m]\u001B[0m\u001B[1;33m\u001B[0m\u001B[1;33m\u001B[0m\u001B[0m\n\u001B[0m\u001B[0;32m      2\u001B[0m \u001B[0mmovies\u001B[0m \u001B[1;33m=\u001B[0m \u001B[0mmovies\u001B[0m\u001B[1;33m[\u001B[0m\u001B[0mmovies\u001B[0m\u001B[1;33m[\u001B[0m\u001B[1;34m'avg_vote'\u001B[0m\u001B[1;33m]\u001B[0m \u001B[1;33m>\u001B[0m \u001B[1;36m6.5\u001B[0m\u001B[1;33m]\u001B[0m\u001B[1;33m\u001B[0m\u001B[1;33m\u001B[0m\u001B[0m\n\u001B[0;32m      3\u001B[0m \u001B[0mmovies\u001B[0m\u001B[1;33m=\u001B[0m\u001B[0mmovies\u001B[0m\u001B[1;33m.\u001B[0m\u001B[0mreset_index\u001B[0m\u001B[1;33m(\u001B[0m\u001B[0mdrop\u001B[0m\u001B[1;33m=\u001B[0m\u001B[1;32mTrue\u001B[0m\u001B[1;33m)\u001B[0m\u001B[1;33m\u001B[0m\u001B[1;33m\u001B[0m\u001B[0m\n\u001B[0;32m      4\u001B[0m \u001B[0mmovies\u001B[0m\u001B[1;33m[\u001B[0m\u001B[1;34m'id'\u001B[0m\u001B[1;33m]\u001B[0m\u001B[1;33m=\u001B[0m\u001B[0mmovies\u001B[0m\u001B[1;33m.\u001B[0m\u001B[0mindex\u001B[0m\u001B[1;33m\u001B[0m\u001B[1;33m\u001B[0m\u001B[0m\n\u001B[0;32m      5\u001B[0m \u001B[1;33m\u001B[0m\u001B[0m\n",
      "\u001B[1;31mNameError\u001B[0m: name 'movies' is not defined"
     ]
    }
   ],
   "source": [
    "import pandas as pd\r\n",
    "import datetime as dt\r\n",
    "\r\n",
    "movies = pd.read_csv('../Resources/IMDb_movies.csv',low_memory=False)"
   ]
  },
  {
   "cell_type": "markdown",
   "metadata": {},
   "source": [
    "at first we will drop all movies with rating less than 6.5 as they are less likely to be liked with the user."
   ]
  },
  {
   "cell_type": "code",
   "execution_count": null,
   "metadata": {
    "collapsed": false,
    "pycharm": {
     "name": "#%%\n"
    }
   },
   "outputs": [],
   "source": [
    "movies=movies[pd.notnull(movies['description'])]\r\n",
    "movies = movies[movies['avg_vote'] > 5]\r\n",
    "movies=movies.reset_index(drop=True)\r\n",
    "movies['id']=movies.index\r\n",
    "\r\n",
    "print(movies.shape)"
   ]
  },
  {
   "cell_type": "markdown",
   "metadata": {},
   "source": [
    "exploring the data "
   ]
  },
  {
   "cell_type": "code",
   "execution_count": null,
   "metadata": {},
   "outputs": [],
   "source": [
    "movies.head(5)"
   ]
  },
  {
   "cell_type": "code",
   "execution_count": null,
   "metadata": {},
   "outputs": [],
   "source": [
    "import matplotlib.pyplot as plt\r\n",
    "import seaborn as sns\r\n",
    "\r\n",
    "plt.figure(figsize=(10,10))\r\n",
    "corr = movies.corr()\r\n",
    "sns.heatmap(data=corr, square=True , annot=True, cbar=True,linewidth=2)"
   ]
  },
  {
   "cell_type": "markdown",
   "metadata": {},
   "source": [
    "we will transalte the actors/direcotrs/genres to numaric values that we can use."
   ]
  },
  {
   "cell_type": "code",
   "execution_count": null,
   "metadata": {},
   "outputs": [],
   "source": [
    "import itertools\r\n",
    "import numpy as np\r\n",
    "\r\n",
    "movies['genre'] = movies['genre'].fillna('')\r\n",
    "for i in range(movies['genre'].size):\r\n",
    "    r=movies['genre'][i].split(\",\")\r\n",
    "    movies['genre'][i] = list(map(str.strip, r))\r\n",
    "    \r\n",
    "\r\n",
    "print(movies['genre'][0][0])\r\n",
    "\r\n",
    "\r\n",
    "movies['writer'] = movies['writer'].fillna('')\r\n",
    "for i in range(movies['writer'].size):\r\n",
    "    r=movies['writer'][i].split(\",\")\r\n",
    "    movies['writer'][i] = list(map(str.strip, r))\r\n",
    "    \r\n",
    "\r\n",
    "print(movies['writer'][0][0])\r\n",
    "\r\n",
    "\r\n",
    "movies['director'] = movies['director'].fillna('')\r\n",
    "for i in range(movies['director'].size):\r\n",
    "    r=movies['director'][i].split(\",\")\r\n",
    "    movies['director'][i] = list(map(str.strip, r))\r\n",
    "    \r\n",
    "\r\n",
    "print(movies['director'][0][0])\r\n",
    "\r\n",
    "movies['language'] = movies['language'].fillna('')\r\n",
    "for i in range(movies['language'].size):\r\n",
    "    r=movies['language'][i].split(\",\")\r\n",
    "    movies['language'][i] = list(map(str.strip, r))\r\n",
    "    \r\n",
    "\r\n",
    "print(movies['language'][0][0])\r\n",
    "\r\n"
   ]
  },
  {
   "cell_type": "code",
   "execution_count": null,
   "metadata": {},
   "outputs": [],
   "source": [
    "print(movies['genre'])\r\n",
    "genre =  np.unique([*itertools.chain.from_iterable(movies['genre'])])\r\n",
    "print(genre)\r\n",
    "\r\n",
    "print(movies['writer'])\r\n",
    "writer =  np.unique([*itertools.chain.from_iterable(movies['writer'])])\r\n",
    "print(writer)\r\n",
    "\r\n",
    "print(movies['director'])\r\n",
    "director =  np.unique([*itertools.chain.from_iterable(movies['director'])])\r\n",
    "print(director)\r\n",
    "\r\n",
    "print(movies['language'])\r\n",
    "language =  np.unique([*itertools.chain.from_iterable(movies['language'])])\r\n",
    "print(language)"
   ]
  },
  {
   "cell_type": "code",
   "execution_count": null,
   "metadata": {},
   "outputs": [],
   "source": [
    "from sklearn import preprocessing\r\n",
    "\r\n",
    "label_encoder = preprocessing.LabelEncoder()\r\n",
    "\r\n",
    "label_encoder.fit(genre)\r\n",
    "genre_encoded = movies[\"genre\"].apply(lambda x:label_encoder.transform(x))\r\n",
    "movies['encoded_genre'] = genre_encoded\r\n",
    "\r\n",
    "label_encoder.fit(writer)\r\n",
    "writer_encoded = movies[\"writer\"].apply(lambda x:label_encoder.transform(x))\r\n",
    "movies['writer_encoded'] = writer_encoded\r\n",
    "\r\n",
    "\r\n",
    "label_encoder.fit(director)\r\n",
    "director_encoded = movies[\"director\"].apply(lambda x:label_encoder.transform(x))\r\n",
    "movies['director_encoded'] = director_encoded\r\n",
    "\r\n",
    "\r\n",
    "label_encoder.fit(language)\r\n",
    "language_encoded = movies[\"language\"].apply(lambda x:label_encoder.transform(x))\r\n",
    "movies['language_encoded'] = language_encoded\r\n"
   ]
  },
  {
   "cell_type": "code",
   "execution_count": null,
   "metadata": {},
   "outputs": [],
   "source": [
    "movies.head(5)\r\n",
    "movies.shape"
   ]
  },
  {
   "cell_type": "code",
   "execution_count": null,
   "metadata": {},
   "outputs": [],
   "source": [
    "movies.to_csv(\"../Resources/modified_movies.csv\")"
   ]
  }
 ],
 "metadata": {
  "kernelspec": {
   "name": "python3",
   "language": "python",
   "display_name": "Python 3"
  },
  "language_info": {
   "codemirror_mode": {
    "name": "ipython",
    "version": 3
   },
   "file_extension": ".py",
   "mimetype": "text/x-python",
   "name": "python",
   "nbconvert_exporter": "python",
   "pygments_lexer": "ipython3",
   "version": "3.9.0"
  }
 },
 "nbformat": 4,
 "nbformat_minor": 0
}