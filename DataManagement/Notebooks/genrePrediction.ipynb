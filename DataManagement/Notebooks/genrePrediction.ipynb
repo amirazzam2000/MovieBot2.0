{
 "cells": [
  {
   "cell_type": "code",
   "execution_count": 1,
   "metadata": {},
   "outputs": [],
   "source": [
    "import pandas as pd\r\n",
    "import numpy as np\r\n",
    "import json\r\n",
    "import nltk\r\n",
    "import re\r\n",
    "import csv\r\n",
    "import matplotlib.pyplot as plt \r\n",
    "import seaborn as sns\r\n",
    "from tqdm import tqdm\r\n",
    "from sklearn.feature_extraction.text import TfidfVectorizer\r\n",
    "from sklearn.model_selection import train_test_split\r\n",
    "\r\n",
    "%matplotlib inline\r\n",
    "pd.set_option('display.max_colwidth', 300)"
   ]
  },
  {
   "cell_type": "code",
   "execution_count": 2,
   "metadata": {},
   "outputs": [
    {
     "data": {
      "text/html": "<div>\n<style scoped>\n    .dataframe tbody tr th:only-of-type {\n        vertical-align: middle;\n    }\n\n    .dataframe tbody tr th {\n        vertical-align: top;\n    }\n\n    .dataframe thead th {\n        text-align: right;\n    }\n</style>\n<table border=\"1\" class=\"dataframe\">\n  <thead>\n    <tr style=\"text-align: right;\">\n      <th></th>\n      <th>0</th>\n      <th>1</th>\n      <th>2</th>\n      <th>3</th>\n      <th>4</th>\n      <th>5</th>\n      <th>6</th>\n      <th>7</th>\n      <th>8</th>\n    </tr>\n  </thead>\n  <tbody>\n    <tr>\n      <th>0</th>\n      <td>975900</td>\n      <td>/m/03vyhn</td>\n      <td>Ghosts of Mars</td>\n      <td>2001-08-24</td>\n      <td>14010832.0</td>\n      <td>98.0</td>\n      <td>{\"/m/02h40lc\": \"English Language\"}</td>\n      <td>{\"/m/09c7w0\": \"United States of America\"}</td>\n      <td>{\"/m/01jfsb\": \"Thriller\", \"/m/06n90\": \"Science Fiction\", \"/m/03npn\": \"Horror\", \"/m/03k9fj\": \"Adventure\", \"/m/0fdjb\": \"Supernatural\", \"/m/02kdv5l\": \"Action\", \"/m/09zvmj\": \"Space western\"}</td>\n    </tr>\n    <tr>\n      <th>1</th>\n      <td>3196793</td>\n      <td>/m/08yl5d</td>\n      <td>Getting Away with Murder: The JonBenét Ramsey Mystery</td>\n      <td>2000-02-16</td>\n      <td>NaN</td>\n      <td>95.0</td>\n      <td>{\"/m/02h40lc\": \"English Language\"}</td>\n      <td>{\"/m/09c7w0\": \"United States of America\"}</td>\n      <td>{\"/m/02n4kr\": \"Mystery\", \"/m/03bxz7\": \"Biographical film\", \"/m/07s9rl0\": \"Drama\", \"/m/0hj3n01\": \"Crime Drama\"}</td>\n    </tr>\n    <tr>\n      <th>2</th>\n      <td>28463795</td>\n      <td>/m/0crgdbh</td>\n      <td>Brun bitter</td>\n      <td>1988</td>\n      <td>NaN</td>\n      <td>83.0</td>\n      <td>{\"/m/05f_3\": \"Norwegian Language\"}</td>\n      <td>{\"/m/05b4w\": \"Norway\"}</td>\n      <td>{\"/m/0lsxr\": \"Crime Fiction\", \"/m/07s9rl0\": \"Drama\"}</td>\n    </tr>\n    <tr>\n      <th>3</th>\n      <td>9363483</td>\n      <td>/m/0285_cd</td>\n      <td>White Of The Eye</td>\n      <td>1987</td>\n      <td>NaN</td>\n      <td>110.0</td>\n      <td>{\"/m/02h40lc\": \"English Language\"}</td>\n      <td>{\"/m/07ssc\": \"United Kingdom\"}</td>\n      <td>{\"/m/01jfsb\": \"Thriller\", \"/m/0glj9q\": \"Erotic thriller\", \"/m/09blyk\": \"Psychological thriller\"}</td>\n    </tr>\n    <tr>\n      <th>4</th>\n      <td>261236</td>\n      <td>/m/01mrr1</td>\n      <td>A Woman in Flames</td>\n      <td>1983</td>\n      <td>NaN</td>\n      <td>106.0</td>\n      <td>{\"/m/04306rv\": \"German Language\"}</td>\n      <td>{\"/m/0345h\": \"Germany\"}</td>\n      <td>{\"/m/07s9rl0\": \"Drama\"}</td>\n    </tr>\n  </tbody>\n</table>\n</div>",
      "text/plain": "          0           1  \\\n0    975900   /m/03vyhn   \n1   3196793   /m/08yl5d   \n2  28463795  /m/0crgdbh   \n3   9363483  /m/0285_cd   \n4    261236   /m/01mrr1   \n\n                                                       2           3  \\\n0                                         Ghosts of Mars  2001-08-24   \n1  Getting Away with Murder: The JonBenét Ramsey Mystery  2000-02-16   \n2                                            Brun bitter        1988   \n3                                       White Of The Eye        1987   \n4                                      A Woman in Flames        1983   \n\n            4      5                                   6  \\\n0  14010832.0   98.0  {\"/m/02h40lc\": \"English Language\"}   \n1         NaN   95.0  {\"/m/02h40lc\": \"English Language\"}   \n2         NaN   83.0  {\"/m/05f_3\": \"Norwegian Language\"}   \n3         NaN  110.0  {\"/m/02h40lc\": \"English Language\"}   \n4         NaN  106.0   {\"/m/04306rv\": \"German Language\"}   \n\n                                           7  \\\n0  {\"/m/09c7w0\": \"United States of America\"}   \n1  {\"/m/09c7w0\": \"United States of America\"}   \n2                     {\"/m/05b4w\": \"Norway\"}   \n3             {\"/m/07ssc\": \"United Kingdom\"}   \n4                    {\"/m/0345h\": \"Germany\"}   \n\n                                                                                                                                                                                            8  \n0  {\"/m/01jfsb\": \"Thriller\", \"/m/06n90\": \"Science Fiction\", \"/m/03npn\": \"Horror\", \"/m/03k9fj\": \"Adventure\", \"/m/0fdjb\": \"Supernatural\", \"/m/02kdv5l\": \"Action\", \"/m/09zvmj\": \"Space western\"}  \n1                                                                              {\"/m/02n4kr\": \"Mystery\", \"/m/03bxz7\": \"Biographical film\", \"/m/07s9rl0\": \"Drama\", \"/m/0hj3n01\": \"Crime Drama\"}  \n2                                                                                                                                        {\"/m/0lsxr\": \"Crime Fiction\", \"/m/07s9rl0\": \"Drama\"}  \n3                                                                                            {\"/m/01jfsb\": \"Thriller\", \"/m/0glj9q\": \"Erotic thriller\", \"/m/09blyk\": \"Psychological thriller\"}  \n4                                                                                                                                                                     {\"/m/07s9rl0\": \"Drama\"}  "
     },
     "execution_count": 2,
     "metadata": {},
     "output_type": "execute_result"
    }
   ],
   "source": [
    "meta = pd.read_csv(\"../../Resources/MovieSummaries.tar/MovieSummaries/movie.metadata.tsv\", sep = '\\t', header = None)\r\n",
    "meta.head()"
   ]
  },
  {
   "cell_type": "code",
   "execution_count": 3,
   "metadata": {},
   "outputs": [
    {
     "data": {
      "text/html": "<div>\n<style scoped>\n    .dataframe tbody tr th:only-of-type {\n        vertical-align: middle;\n    }\n\n    .dataframe tbody tr th {\n        vertical-align: top;\n    }\n\n    .dataframe thead th {\n        text-align: right;\n    }\n</style>\n<table border=\"1\" class=\"dataframe\">\n  <thead>\n    <tr style=\"text-align: right;\">\n      <th></th>\n      <th>movie_id</th>\n      <th>1</th>\n      <th>movie_name</th>\n      <th>3</th>\n      <th>4</th>\n      <th>5</th>\n      <th>6</th>\n      <th>7</th>\n      <th>genre</th>\n    </tr>\n  </thead>\n  <tbody>\n    <tr>\n      <th>0</th>\n      <td>975900</td>\n      <td>/m/03vyhn</td>\n      <td>Ghosts of Mars</td>\n      <td>2001-08-24</td>\n      <td>14010832.0</td>\n      <td>98.0</td>\n      <td>{\"/m/02h40lc\": \"English Language\"}</td>\n      <td>{\"/m/09c7w0\": \"United States of America\"}</td>\n      <td>{\"/m/01jfsb\": \"Thriller\", \"/m/06n90\": \"Science Fiction\", \"/m/03npn\": \"Horror\", \"/m/03k9fj\": \"Adventure\", \"/m/0fdjb\": \"Supernatural\", \"/m/02kdv5l\": \"Action\", \"/m/09zvmj\": \"Space western\"}</td>\n    </tr>\n    <tr>\n      <th>1</th>\n      <td>3196793</td>\n      <td>/m/08yl5d</td>\n      <td>Getting Away with Murder: The JonBenét Ramsey Mystery</td>\n      <td>2000-02-16</td>\n      <td>NaN</td>\n      <td>95.0</td>\n      <td>{\"/m/02h40lc\": \"English Language\"}</td>\n      <td>{\"/m/09c7w0\": \"United States of America\"}</td>\n      <td>{\"/m/02n4kr\": \"Mystery\", \"/m/03bxz7\": \"Biographical film\", \"/m/07s9rl0\": \"Drama\", \"/m/0hj3n01\": \"Crime Drama\"}</td>\n    </tr>\n    <tr>\n      <th>2</th>\n      <td>28463795</td>\n      <td>/m/0crgdbh</td>\n      <td>Brun bitter</td>\n      <td>1988</td>\n      <td>NaN</td>\n      <td>83.0</td>\n      <td>{\"/m/05f_3\": \"Norwegian Language\"}</td>\n      <td>{\"/m/05b4w\": \"Norway\"}</td>\n      <td>{\"/m/0lsxr\": \"Crime Fiction\", \"/m/07s9rl0\": \"Drama\"}</td>\n    </tr>\n    <tr>\n      <th>3</th>\n      <td>9363483</td>\n      <td>/m/0285_cd</td>\n      <td>White Of The Eye</td>\n      <td>1987</td>\n      <td>NaN</td>\n      <td>110.0</td>\n      <td>{\"/m/02h40lc\": \"English Language\"}</td>\n      <td>{\"/m/07ssc\": \"United Kingdom\"}</td>\n      <td>{\"/m/01jfsb\": \"Thriller\", \"/m/0glj9q\": \"Erotic thriller\", \"/m/09blyk\": \"Psychological thriller\"}</td>\n    </tr>\n    <tr>\n      <th>4</th>\n      <td>261236</td>\n      <td>/m/01mrr1</td>\n      <td>A Woman in Flames</td>\n      <td>1983</td>\n      <td>NaN</td>\n      <td>106.0</td>\n      <td>{\"/m/04306rv\": \"German Language\"}</td>\n      <td>{\"/m/0345h\": \"Germany\"}</td>\n      <td>{\"/m/07s9rl0\": \"Drama\"}</td>\n    </tr>\n  </tbody>\n</table>\n</div>",
      "text/plain": "   movie_id           1  \\\n0    975900   /m/03vyhn   \n1   3196793   /m/08yl5d   \n2  28463795  /m/0crgdbh   \n3   9363483  /m/0285_cd   \n4    261236   /m/01mrr1   \n\n                                              movie_name           3  \\\n0                                         Ghosts of Mars  2001-08-24   \n1  Getting Away with Murder: The JonBenét Ramsey Mystery  2000-02-16   \n2                                            Brun bitter        1988   \n3                                       White Of The Eye        1987   \n4                                      A Woman in Flames        1983   \n\n            4      5                                   6  \\\n0  14010832.0   98.0  {\"/m/02h40lc\": \"English Language\"}   \n1         NaN   95.0  {\"/m/02h40lc\": \"English Language\"}   \n2         NaN   83.0  {\"/m/05f_3\": \"Norwegian Language\"}   \n3         NaN  110.0  {\"/m/02h40lc\": \"English Language\"}   \n4         NaN  106.0   {\"/m/04306rv\": \"German Language\"}   \n\n                                           7  \\\n0  {\"/m/09c7w0\": \"United States of America\"}   \n1  {\"/m/09c7w0\": \"United States of America\"}   \n2                     {\"/m/05b4w\": \"Norway\"}   \n3             {\"/m/07ssc\": \"United Kingdom\"}   \n4                    {\"/m/0345h\": \"Germany\"}   \n\n                                                                                                                                                                                        genre  \n0  {\"/m/01jfsb\": \"Thriller\", \"/m/06n90\": \"Science Fiction\", \"/m/03npn\": \"Horror\", \"/m/03k9fj\": \"Adventure\", \"/m/0fdjb\": \"Supernatural\", \"/m/02kdv5l\": \"Action\", \"/m/09zvmj\": \"Space western\"}  \n1                                                                              {\"/m/02n4kr\": \"Mystery\", \"/m/03bxz7\": \"Biographical film\", \"/m/07s9rl0\": \"Drama\", \"/m/0hj3n01\": \"Crime Drama\"}  \n2                                                                                                                                        {\"/m/0lsxr\": \"Crime Fiction\", \"/m/07s9rl0\": \"Drama\"}  \n3                                                                                            {\"/m/01jfsb\": \"Thriller\", \"/m/0glj9q\": \"Erotic thriller\", \"/m/09blyk\": \"Psychological thriller\"}  \n4                                                                                                                                                                     {\"/m/07s9rl0\": \"Drama\"}  "
     },
     "execution_count": 3,
     "metadata": {},
     "output_type": "execute_result"
    }
   ],
   "source": [
    "meta.columns = [\"movie_id\",1,\"movie_name\",3,4,5,6,7,\"genre\"]\r\n",
    "meta.head()"
   ]
  },
  {
   "cell_type": "code",
   "execution_count": 4,
   "metadata": {},
   "outputs": [
    {
     "name": "stderr",
     "output_type": "stream",
     "text": [
      "42303it [00:01, 32108.86it/s]\n"
     ]
    }
   ],
   "source": [
    "plots = []\r\n",
    "\r\n",
    "with open(\"../Resources/MovieSummaries.tar/MovieSummaries/plot_summaries.txt\", 'r', encoding=\"utf8\") as f:\r\n",
    "       reader = csv.reader(f, dialect='excel-tab') \r\n",
    "       for row in tqdm(reader):\r\n",
    "            plots.append(row)"
   ]
  },
  {
   "cell_type": "code",
   "execution_count": 5,
   "metadata": {},
   "outputs": [
    {
     "name": "stderr",
     "output_type": "stream",
     "text": [
      "100%|██████████| 42303/42303 [00:00<00:00, 1262238.77it/s]\n"
     ]
    }
   ],
   "source": [
    "movie_id = []\r\n",
    "plot = []\r\n",
    "\r\n",
    "# extract movie Ids and plot summaries\r\n",
    "for i in tqdm(plots):\r\n",
    "  movie_id.append(i[0])\r\n",
    "  plot.append(i[1])\r\n",
    "\r\n",
    "# create dataframe\r\n",
    "movies = pd.DataFrame({'movie_id': movie_id, 'plot': plot})"
   ]
  },
  {
   "cell_type": "code",
   "execution_count": 13,
   "metadata": {},
   "outputs": [
    {
     "data": {
      "text/html": "<div>\n<style scoped>\n    .dataframe tbody tr th:only-of-type {\n        vertical-align: middle;\n    }\n\n    .dataframe tbody tr th {\n        vertical-align: top;\n    }\n\n    .dataframe thead th {\n        text-align: right;\n    }\n</style>\n<table border=\"1\" class=\"dataframe\">\n  <thead>\n    <tr style=\"text-align: right;\">\n      <th></th>\n      <th>movie_id</th>\n      <th>plot</th>\n    </tr>\n  </thead>\n  <tbody>\n    <tr>\n      <th>0</th>\n      <td>23890098</td>\n      <td>Shlykov, a hard-working taxi driver and Lyosha, a saxophonist, develop a bizarre love-hate relationship, and despite their prejudices, realize they aren't so different after all.</td>\n    </tr>\n    <tr>\n      <th>1</th>\n      <td>31186339</td>\n      <td>The nation of Panem consists of a wealthy Capitol and twelve poorer districts. As punishment for a past rebellion, each district must provide a boy and girl  between the ages of 12 and 18 selected by lottery  for the annual Hunger Games. The tributes must fight to the death in an arena; the sole...</td>\n    </tr>\n    <tr>\n      <th>2</th>\n      <td>20663735</td>\n      <td>Poovalli Induchoodan  is sentenced for six years prison life for murdering his classmate. Induchoodan, the only son of Justice Maranchery Karunakara Menon  was framed in the case by Manapally Madhavan Nambiar  and his crony DYSP Sankaranarayanan  to take revenge on idealist judge Menon who had e...</td>\n    </tr>\n    <tr>\n      <th>3</th>\n      <td>2231378</td>\n      <td>The Lemon Drop Kid , a New York City swindler, is illegally touting horses at a Florida racetrack. After several successful hustles, the Kid comes across a beautiful, but gullible, woman intending to bet a lot of money. The Kid convinces her to switch her bet, employing a prefabricated con. Unfo...</td>\n    </tr>\n    <tr>\n      <th>4</th>\n      <td>595909</td>\n      <td>Seventh-day Adventist Church pastor Michael Chamberlain, his wife Lindy, their two sons, and their nine-week-old daughter Azaria are on a camping holiday in the Outback. With the baby sleeping in their tent, the family is enjoying a barbecue with their fellow campers when a cry is heard. Lindy r...</td>\n    </tr>\n  </tbody>\n</table>\n</div>",
      "text/plain": "   movie_id  \\\n0  23890098   \n1  31186339   \n2  20663735   \n3   2231378   \n4    595909   \n\n                                                                                                                                                                                                                                                                                                          plot  \n0                                                                                                                           Shlykov, a hard-working taxi driver and Lyosha, a saxophonist, develop a bizarre love-hate relationship, and despite their prejudices, realize they aren't so different after all.  \n1  The nation of Panem consists of a wealthy Capitol and twelve poorer districts. As punishment for a past rebellion, each district must provide a boy and girl  between the ages of 12 and 18 selected by lottery  for the annual Hunger Games. The tributes must fight to the death in an arena; the sole...  \n2  Poovalli Induchoodan  is sentenced for six years prison life for murdering his classmate. Induchoodan, the only son of Justice Maranchery Karunakara Menon  was framed in the case by Manapally Madhavan Nambiar  and his crony DYSP Sankaranarayanan  to take revenge on idealist judge Menon who had e...  \n3  The Lemon Drop Kid , a New York City swindler, is illegally touting horses at a Florida racetrack. After several successful hustles, the Kid comes across a beautiful, but gullible, woman intending to bet a lot of money. The Kid convinces her to switch her bet, employing a prefabricated con. Unfo...  \n4  Seventh-day Adventist Church pastor Michael Chamberlain, his wife Lindy, their two sons, and their nine-week-old daughter Azaria are on a camping holiday in the Outback. With the baby sleeping in their tent, the family is enjoying a barbecue with their fellow campers when a cry is heard. Lindy r...  "
     },
     "execution_count": 13,
     "metadata": {},
     "output_type": "execute_result"
    }
   ],
   "source": [
    "movies.head(5)"
   ]
  },
  {
   "cell_type": "code",
   "execution_count": 6,
   "metadata": {},
   "outputs": [
    {
     "data": {
      "text/html": "<div>\n<style scoped>\n    .dataframe tbody tr th:only-of-type {\n        vertical-align: middle;\n    }\n\n    .dataframe tbody tr th {\n        vertical-align: top;\n    }\n\n    .dataframe thead th {\n        text-align: right;\n    }\n</style>\n<table border=\"1\" class=\"dataframe\">\n  <thead>\n    <tr style=\"text-align: right;\">\n      <th></th>\n      <th>movie_id</th>\n      <th>plot</th>\n      <th>movie_name</th>\n      <th>genre</th>\n    </tr>\n  </thead>\n  <tbody>\n    <tr>\n      <th>0</th>\n      <td>23890098</td>\n      <td>Shlykov, a hard-working taxi driver and Lyosha, a saxophonist, develop a bizarre love-hate relationship, and despite their prejudices, realize they aren't so different after all.</td>\n      <td>Taxi Blues</td>\n      <td>{\"/m/07s9rl0\": \"Drama\", \"/m/03q4nz\": \"World cinema\"}</td>\n    </tr>\n    <tr>\n      <th>1</th>\n      <td>31186339</td>\n      <td>The nation of Panem consists of a wealthy Capitol and twelve poorer districts. As punishment for a past rebellion, each district must provide a boy and girl  between the ages of 12 and 18 selected by lottery  for the annual Hunger Games. The tributes must fight to the death in an arena; the sole...</td>\n      <td>The Hunger Games</td>\n      <td>{\"/m/03btsm8\": \"Action/Adventure\", \"/m/06n90\": \"Science Fiction\", \"/m/02kdv5l\": \"Action\", \"/m/07s9rl0\": \"Drama\"}</td>\n    </tr>\n    <tr>\n      <th>2</th>\n      <td>20663735</td>\n      <td>Poovalli Induchoodan  is sentenced for six years prison life for murdering his classmate. Induchoodan, the only son of Justice Maranchery Karunakara Menon  was framed in the case by Manapally Madhavan Nambiar  and his crony DYSP Sankaranarayanan  to take revenge on idealist judge Menon who had e...</td>\n      <td>Narasimham</td>\n      <td>{\"/m/04t36\": \"Musical\", \"/m/02kdv5l\": \"Action\", \"/m/07s9rl0\": \"Drama\", \"/m/01chg\": \"Bollywood\"}</td>\n    </tr>\n    <tr>\n      <th>3</th>\n      <td>2231378</td>\n      <td>The Lemon Drop Kid , a New York City swindler, is illegally touting horses at a Florida racetrack. After several successful hustles, the Kid comes across a beautiful, but gullible, woman intending to bet a lot of money. The Kid convinces her to switch her bet, employing a prefabricated con. Unfo...</td>\n      <td>The Lemon Drop Kid</td>\n      <td>{\"/m/06qm3\": \"Screwball comedy\", \"/m/01z4y\": \"Comedy\"}</td>\n    </tr>\n    <tr>\n      <th>4</th>\n      <td>595909</td>\n      <td>Seventh-day Adventist Church pastor Michael Chamberlain, his wife Lindy, their two sons, and their nine-week-old daughter Azaria are on a camping holiday in the Outback. With the baby sleeping in their tent, the family is enjoying a barbecue with their fellow campers when a cry is heard. Lindy r...</td>\n      <td>A Cry in the Dark</td>\n      <td>{\"/m/0lsxr\": \"Crime Fiction\", \"/m/07s9rl0\": \"Drama\", \"/m/01f9r0\": \"Docudrama\", \"/m/03q4nz\": \"World cinema\", \"/m/05bh16v\": \"Courtroom Drama\"}</td>\n    </tr>\n  </tbody>\n</table>\n</div>",
      "text/plain": "   movie_id  \\\n0  23890098   \n1  31186339   \n2  20663735   \n3   2231378   \n4    595909   \n\n                                                                                                                                                                                                                                                                                                          plot  \\\n0                                                                                                                           Shlykov, a hard-working taxi driver and Lyosha, a saxophonist, develop a bizarre love-hate relationship, and despite their prejudices, realize they aren't so different after all.   \n1  The nation of Panem consists of a wealthy Capitol and twelve poorer districts. As punishment for a past rebellion, each district must provide a boy and girl  between the ages of 12 and 18 selected by lottery  for the annual Hunger Games. The tributes must fight to the death in an arena; the sole...   \n2  Poovalli Induchoodan  is sentenced for six years prison life for murdering his classmate. Induchoodan, the only son of Justice Maranchery Karunakara Menon  was framed in the case by Manapally Madhavan Nambiar  and his crony DYSP Sankaranarayanan  to take revenge on idealist judge Menon who had e...   \n3  The Lemon Drop Kid , a New York City swindler, is illegally touting horses at a Florida racetrack. After several successful hustles, the Kid comes across a beautiful, but gullible, woman intending to bet a lot of money. The Kid convinces her to switch her bet, employing a prefabricated con. Unfo...   \n4  Seventh-day Adventist Church pastor Michael Chamberlain, his wife Lindy, their two sons, and their nine-week-old daughter Azaria are on a camping holiday in the Outback. With the baby sleeping in their tent, the family is enjoying a barbecue with their fellow campers when a cry is heard. Lindy r...   \n\n           movie_name  \\\n0          Taxi Blues   \n1    The Hunger Games   \n2          Narasimham   \n3  The Lemon Drop Kid   \n4   A Cry in the Dark   \n\n                                                                                                                                          genre  \n0                                                                                          {\"/m/07s9rl0\": \"Drama\", \"/m/03q4nz\": \"World cinema\"}  \n1                              {\"/m/03btsm8\": \"Action/Adventure\", \"/m/06n90\": \"Science Fiction\", \"/m/02kdv5l\": \"Action\", \"/m/07s9rl0\": \"Drama\"}  \n2                                               {\"/m/04t36\": \"Musical\", \"/m/02kdv5l\": \"Action\", \"/m/07s9rl0\": \"Drama\", \"/m/01chg\": \"Bollywood\"}  \n3                                                                                        {\"/m/06qm3\": \"Screwball comedy\", \"/m/01z4y\": \"Comedy\"}  \n4  {\"/m/0lsxr\": \"Crime Fiction\", \"/m/07s9rl0\": \"Drama\", \"/m/01f9r0\": \"Docudrama\", \"/m/03q4nz\": \"World cinema\", \"/m/05bh16v\": \"Courtroom Drama\"}  "
     },
     "execution_count": 6,
     "metadata": {},
     "output_type": "execute_result"
    }
   ],
   "source": [
    "meta['movie_id'] = meta['movie_id'].astype(str)\r\n",
    "\r\n",
    "# merge meta with movies\r\n",
    "movies = pd.merge(movies, meta[['movie_id', 'movie_name', 'genre']], on = 'movie_id')\r\n",
    "\r\n",
    "movies.head()"
   ]
  },
  {
   "cell_type": "code",
   "execution_count": 7,
   "metadata": {},
   "outputs": [],
   "source": [
    "genres = [] \r\n",
    "\r\n",
    "# extract genres\r\n",
    "for i in movies['genre']: \r\n",
    "  genres.append(list(json.loads(i).values())) \r\n",
    "\r\n",
    "# add to 'movies' dataframe  \r\n",
    "movies['genre_new'] = genres"
   ]
  },
  {
   "cell_type": "code",
   "execution_count": 8,
   "metadata": {},
   "outputs": [],
   "source": [
    "movies_new = movies[~(movies['genre_new'].str.len() == 0)]"
   ]
  },
  {
   "cell_type": "code",
   "execution_count": 9,
   "metadata": {},
   "outputs": [],
   "source": [
    "all_genres = sum(genres,[])\r\n",
    "len(set(all_genres))\r\n",
    "all_genres = nltk.FreqDist(all_genres) \r\n",
    "\r\n",
    "# create dataframe\r\n",
    "all_genres_df = pd.DataFrame({'Genre': list(all_genres.keys()), \r\n",
    "                              'Count': list(all_genres.values())})"
   ]
  },
  {
   "cell_type": "code",
   "execution_count": 49,
   "metadata": {},
   "outputs": [
    {
     "name": "stdout",
     "output_type": "stream",
     "text": [
      "Drama\n",
      "World cinema\n",
      "Action/Adventure\n",
      "Science Fiction\n",
      "Action\n",
      "Musical\n",
      "Bollywood\n",
      "Screwball comedy\n",
      "Comedy\n",
      "Crime Fiction\n",
      "Docudrama\n",
      "Courtroom Drama\n",
      "Thriller\n",
      "Horror\n",
      "Teen\n",
      "Romantic comedy\n",
      "Media Satire\n",
      "Americana\n",
      "Comedy-drama\n",
      "Black-and-white\n",
      "Romance Film\n",
      "Short Film\n",
      "Family Film\n",
      "Animation\n",
      "Parody\n",
      "War film\n",
      "Epic\n",
      "Period piece\n",
      "Film adaptation\n",
      "Political drama\n",
      "Cult\n",
      "Coming of age\n",
      "Mystery\n",
      "Comedy film\n",
      "Indie\n",
      "Martial Arts Film\n",
      "Computer Animation\n",
      "Adventure\n",
      "Documentary\n",
      "History\n",
      "Biopic [feature]\n",
      "Family Drama\n",
      "B-movie\n",
      "Slasher\n",
      "Western\n",
      "Buddy film\n",
      "Costume Adventure\n",
      "Historical Epic\n",
      "Chinese Movies\n",
      "Crime Thriller\n",
      "Musical comedy\n",
      "Beach Film\n",
      "Wuxia\n",
      "Fantasy Adventure\n",
      "Superhero movie\n",
      "Fantasy\n",
      "Romantic fantasy\n",
      "Black comedy\n",
      "Satire\n",
      "Romantic drama\n",
      "Silent film\n",
      "Experimental film\n",
      "Musical Drama\n",
      "Avant-garde\n",
      "LGBT\n",
      "Gay\n",
      "Spy\n",
      "Melodrama\n",
      "Natural horror films\n",
      "Television movie\n",
      "Comedy of manners\n",
      "Tragicomedy\n",
      "Sports\n",
      "Children's/Family\n",
      "Children's\n",
      "Music\n",
      "Family-Oriented Adventure\n",
      "Slapstick\n",
      "Fantasy Comedy\n",
      "Domestic Comedy\n",
      "Psychological thriller\n",
      "Psycho-biddy\n",
      "B-Western\n",
      "Pre-Code\n",
      "Mockumentary\n",
      "Gay Interest\n",
      "Gay Themed\n",
      "Japanese Movies\n",
      "Christian film\n",
      "Biography\n",
      "Costume drama\n",
      "Hagiography\n",
      "Historical fiction\n",
      "Supernatural\n",
      "Anime\n",
      "Crime Comedy\n",
      "Neo-noir\n",
      "Filipino\n",
      "Filipino Movies\n",
      "Political cinema\n",
      "Political satire\n",
      "Detective\n",
      "Film noir\n",
      "Historical drama\n",
      "Gangster Film\n",
      "Prison film\n",
      "Prison\n",
      "Sci-Fi Horror\n",
      "Creature Film\n",
      "Art film\n",
      "Ensemble Film\n",
      "Detective fiction\n",
      "Monster movie\n",
      "Crime Drama\n",
      "Anthology\n",
      "Blaxploitation\n",
      "Spaghetti Western\n",
      "Indian Western\n",
      "Chase Movie\n",
      "New Hollywood\n",
      "Suspense\n",
      "Political thriller\n",
      "Haunted House Film\n",
      "Airplanes and airports\n",
      "Action Thrillers\n",
      "Early Black Cinema\n",
      "Monster\n",
      "Sci-Fi Adventure\n",
      "Christmas movie\n",
      "Holiday Film\n",
      "Tamil cinema\n",
      "Educational\n",
      "Sex comedy\n",
      "Pornographic movie\n",
      "Zombie Film\n",
      "Sexploitation\n",
      "Action Comedy\n",
      "Crime\n",
      "Absurdism\n",
      "The Netherlands in World War II\n",
      "Religious Film\n",
      "Childhood Drama\n",
      "Escape Film\n",
      "Heist\n",
      "Caper story\n",
      "Alien Film\n",
      "Erotic thriller\n",
      "Adult\n",
      "Tollywood\n",
      "Comedy of Errors\n",
      "Erotic Drama\n",
      "Erotica\n",
      "Superhero\n",
      "Animated cartoon\n",
      "Stop motion\n",
      "Boxing\n",
      "Medical fiction\n",
      "Sword and Sandal\n",
      "Roadshow theatrical release\n",
      "Road movie\n",
      "Stoner film\n",
      "Comedy Western\n",
      "Fantasy Drama\n",
      "Gay pornography\n",
      "Addiction Drama\n",
      "Surrealism\n",
      "Biographical film\n",
      "Law & Crime\n",
      "Social issues\n",
      "Education\n",
      "Travel\n",
      "Kitchen sink realism\n",
      "Social problem film\n",
      "Epic Western\n",
      "Women in prison films\n",
      "Disaster\n",
      "Tragedy\n",
      "Horror Comedy\n",
      "Children's Fantasy\n",
      "Auto racing\n",
      "Remake\n",
      "Marriage Drama\n",
      "Animal Picture\n",
      "Feminist Film\n",
      "Slice of life story\n",
      "Culture & Society\n",
      "Interpersonal Relationships\n",
      "Fairy tale\n",
      "Propaganda film\n",
      "Heaven-Can-Wait Fantasies\n",
      "Heavenly Comedy\n",
      "Inspirational Drama\n",
      "Glamorized Spy Film\n",
      "Combat Films\n",
      "Movie serial\n",
      "Gothic Film\n",
      "Sword and sorcery films\n",
      "Feature film\n",
      "Dogme 95\n",
      "Cavalry Film\n",
      "Doomsday film\n",
      "Gross out\n",
      "Gross-out film\n",
      "Samurai cinema\n",
      "British Empire Film\n",
      "Animated Musical\n",
      "Comedy horror\n",
      "Revisionist Western\n",
      "Costume Horror\n",
      "Essay Film\n",
      "Road-Horror\n",
      "Buddy cop\n",
      "Film-Opera\n",
      "Natural disaster\n",
      "Dystopia\n",
      "Pinku eiga\n",
      "Adventure Comedy\n",
      "Operetta\n",
      "Dance\n",
      "Prison escape\n",
      "Workplace Comedy\n",
      "Parkour in popular culture\n",
      "Reboot\n",
      "Existentialism\n",
      "Ealing Comedies\n",
      "Whodunit\n",
      "Apocalyptic and post-apocalyptic fiction\n",
      "Juvenile Delinquency Film\n",
      "Softcore Porn\n",
      "Swashbuckler films\n",
      "Sci Fi Pictures original films\n",
      "Mythological Fantasy\n",
      "Singing cowboy\n",
      "Anti-war\n",
      "Jungle Film\n",
      "Anti-war film\n",
      "Giallo\n",
      "Comedy Thriller\n",
      "Courtroom Comedy\n",
      "Legal drama\n",
      "Hip hop movies\n",
      "Live action\n",
      "Outlaw biker film\n",
      "Graphic & Applied Arts\n",
      "Splatter film\n",
      "Sword and sorcery\n",
      "Alien invasion\n",
      "Hybrid Western\n",
      "Future noir\n",
      "Biker Film\n",
      "Albino bias\n",
      "Time travel\n",
      "Film à clef\n",
      "Concert film\n",
      "Nature\n",
      "Cyberpunk\n",
      "Horse racing\n",
      "Steampunk\n",
      "Master Criminal Films\n",
      "Archaeology\n",
      "Acid western\n",
      "War effort\n",
      "Rockumentary\n",
      "Film\n",
      "Humour\n",
      "Instrumental Music\n",
      "Northern\n",
      "Backstage Musical\n",
      "Camp\n",
      "Foreign legion\n",
      "Space opera\n",
      "Female buddy film\n",
      "Language & Literature\n",
      "Baseball\n",
      "Malayalam Cinema\n",
      "Extreme Sports\n",
      "Bloopers & Candid Camera\n",
      "Stand-up comedy\n",
      "Family & Personal Relationships\n",
      "Media Studies\n",
      "Punk rock\n",
      "Film & Television History\n",
      "Gender Issues\n",
      "Goat gland\n",
      "Children's Entertainment\n",
      "Business\n",
      "Fan film\n",
      "Fictional film\n",
      "Finance & Investing\n",
      "Kafkaesque\n",
      "Sci-Fi Thriller\n",
      "Jukebox musical\n",
      "Illnesses & Disabilities\n",
      "Pornography\n",
      "Science fiction Western\n",
      "Exploitation\n",
      "British New Wave\n",
      "World History\n",
      "Cold War\n",
      "Coming-of-age film\n",
      "Point of view shot\n",
      "Race movie\n",
      "Hardcore pornography\n",
      "Environmental Science\n",
      "Conspiracy fiction\n",
      "Movies About Gladiators\n",
      "Bruceploitation\n",
      "Outlaw\n",
      "Bengali Cinema\n",
      "News\n",
      "Czechoslovak New Wave\n",
      "Space western\n",
      "Health & Fitness\n",
      "Sponsored film\n",
      "Roadshow/Carny\n",
      "Revenge\n",
      "Animals\n",
      "Filmed Play\n",
      "Mumblecore\n",
      "Z movie\n",
      "Patriotic film\n",
      "Computers\n",
      "Inventions & Innovations\n",
      "Ninja movie\n",
      "Plague\n",
      "Latino\n",
      "School story\n",
      "Nuclear warfare\n",
      "Demonic child\n",
      "Mondo film\n",
      "Beach Party film\n",
      "Private military company\n",
      "Werewolf fiction\n",
      "Archives and records\n",
      "Political Documetary\n",
      "Tokusatsu\n",
      "Supermarionation\n",
      "Psychological horror\n",
      "Clay animation\n",
      "Period Horror\n",
      "Linguistics\n",
      "Gulf War\n",
      "Therimin music\n",
      "Libraries and librarians\n",
      "Revisionist Fairy Tale\n",
      "Romantic thriller\n",
      "C-Movie\n",
      "Expressionism\n",
      "Anthropology\n",
      "Vampire movies\n",
      "Breakdance\n",
      "Chick flick\n",
      "Star vehicle\n",
      "New Queer Cinema\n",
      "Buddy Picture\n",
      "Historical Documentaries\n",
      "Journalism\n",
      "Comdedy\n",
      "Statutory rape\n",
      "Silhouette animation\n",
      "Children's Issues\n",
      "Homoeroticism\n",
      "Neorealism\n"
     ]
    }
   ],
   "source": [
    "for g in all_genres.keys():\r\n",
    "    print(g)"
   ]
  },
  {
   "cell_type": "code",
   "execution_count": 27,
   "metadata": {},
   "outputs": [
    {
     "data": {
      "image/png": "[encoded data removed]",
      "text/plain": "<Figure size 864x1080 with 1 Axes>"
     },
     "metadata": {
      "needs_background": "light"
     },
     "output_type": "display_data"
    }
   ],
   "source": [
    "g = all_genres_df.nlargest(columns=\"Count\", n = 100) \r\n",
    "plt.figure(figsize=(12,15)) \r\n",
    "ax = sns.barplot(data=g, x= \"Count\", y = \"Genre\") \r\n",
    "ax.set(ylabel = 'Count') \r\n",
    "plt.show()"
   ]
  },
  {
   "cell_type": "code",
   "execution_count": 10,
   "metadata": {},
   "outputs": [],
   "source": [
    "def clean_text(text):\r\n",
    "    # remove backslash-apostrophe \r\n",
    "    text = re.sub(\"\\'\", \"\", text) \r\n",
    "    # remove everything except alphabets \r\n",
    "    text = re.sub(\"[^a-zA-Z]\",\" \",text) \r\n",
    "    # remove whitespaces \r\n",
    "    text = ' '.join(text.split()) \r\n",
    "    # convert text to lowercase \r\n",
    "    text = text.lower() \r\n",
    "    \r\n",
    "    return text"
   ]
  },
  {
   "cell_type": "code",
   "execution_count": 11,
   "metadata": {},
   "outputs": [
    {
     "name": "stderr",
     "output_type": "stream",
     "text": [
      "<ipython-input-11-cba7721b10bf>:1: SettingWithCopyWarning: \n",
      "A value is trying to be set on a copy of a slice from a DataFrame.\n",
      "Try using .loc[row_indexer,col_indexer] = value instead\n",
      "\n",
      "See the caveats in the documentation: https://pandas.pydata.org/pandas-docs/stable/user_guide/indexing.html#returning-a-view-versus-a-copy\n",
      "  movies_new['clean_plot'] = movies_new['plot'].apply(lambda x: clean_text(x))\n"
     ]
    }
   ],
   "source": [
    "movies_new['clean_plot'] = movies_new['plot'].apply(lambda x: clean_text(x))"
   ]
  },
  {
   "cell_type": "code",
   "execution_count": 12,
   "metadata": {},
   "outputs": [
    {
     "data": {
      "image/png": "[encoded data removed]",
      "text/plain": "<Figure size 864x1080 with 1 Axes>"
     },
     "metadata": {
      "needs_background": "light"
     },
     "output_type": "display_data"
    }
   ],
   "source": [
    "def freq_words(x, terms = 30): \r\n",
    "  all_words = ' '.join([text for text in x]) \r\n",
    "  all_words = all_words.split() \r\n",
    "  fdist = nltk.FreqDist(all_words) \r\n",
    "  words_df = pd.DataFrame({'word':list(fdist.keys()), 'count':list(fdist.values())}) \r\n",
    "  \r\n",
    "  # selecting top 20 most frequent words \r\n",
    "  d = words_df.nlargest(columns=\"count\", n = terms) \r\n",
    "  \r\n",
    "  # visualize words and frequencies\r\n",
    "  plt.figure(figsize=(12,15)) \r\n",
    "  ax = sns.barplot(data=d, x= \"count\", y = \"word\") \r\n",
    "  ax.set(ylabel = 'Word') \r\n",
    "  plt.show()\r\n",
    "  \r\n",
    "# print 100 most frequent words \r\n",
    "freq_words(movies_new['clean_plot'], 100)"
   ]
  },
  {
   "cell_type": "code",
   "execution_count": 13,
   "metadata": {},
   "outputs": [
    {
     "name": "stderr",
     "output_type": "stream",
     "text": [
      "[nltk_data] Downloading package stopwords to\n",
      "[nltk_data]     C:\\Users\\ameer\\AppData\\Roaming\\nltk_data...\n",
      "[nltk_data]   Package stopwords is already up-to-date!\n"
     ]
    },
    {
     "data": {
      "text/plain": "True"
     },
     "execution_count": 13,
     "metadata": {},
     "output_type": "execute_result"
    }
   ],
   "source": [
    "nltk.download('stopwords')"
   ]
  },
  {
   "cell_type": "code",
   "execution_count": 14,
   "metadata": {},
   "outputs": [
    {
     "name": "stderr",
     "output_type": "stream",
     "text": [
      "<ipython-input-14-19c73b0b723d>:9: SettingWithCopyWarning: \n",
      "A value is trying to be set on a copy of a slice from a DataFrame.\n",
      "Try using .loc[row_indexer,col_indexer] = value instead\n",
      "\n",
      "See the caveats in the documentation: https://pandas.pydata.org/pandas-docs/stable/user_guide/indexing.html#returning-a-view-versus-a-copy\n",
      "  movies_new['clean_plot'] = movies_new['clean_plot'].apply(lambda x: remove_stopwords(x))\n"
     ]
    }
   ],
   "source": [
    "from nltk.corpus import stopwords\r\n",
    "stop_words = set(stopwords.words('english'))\r\n",
    "\r\n",
    "# function to remove stopwords\r\n",
    "def remove_stopwords(text):\r\n",
    "    no_stopword_text = [w for w in text.split() if not w in stop_words]\r\n",
    "    return ' '.join(no_stopword_text)\r\n",
    "\r\n",
    "movies_new['clean_plot'] = movies_new['clean_plot'].apply(lambda x: remove_stopwords(x))"
   ]
  },
  {
   "cell_type": "code",
   "execution_count": 15,
   "metadata": {},
   "outputs": [],
   "source": [
    "from sklearn.preprocessing import MultiLabelBinarizer\r\n",
    "\r\n",
    "multilabel_binarizer = MultiLabelBinarizer()\r\n",
    "multilabel_binarizer.fit(movies_new['genre_new'])\r\n",
    "\r\n",
    "# transform target variable\r\n",
    "y = multilabel_binarizer.transform(movies_new['genre_new'])"
   ]
  },
  {
   "cell_type": "code",
   "execution_count": 16,
   "metadata": {},
   "outputs": [],
   "source": [
    "tfidf_vectorizer = TfidfVectorizer(max_df=0.8, max_features=10000)"
   ]
  },
  {
   "cell_type": "code",
   "execution_count": 17,
   "metadata": {},
   "outputs": [],
   "source": [
    "xtrain, xval, ytrain, yval = train_test_split(movies_new['clean_plot'], y, test_size=0.2, random_state=9)"
   ]
  },
  {
   "cell_type": "code",
   "execution_count": 18,
   "metadata": {},
   "outputs": [],
   "source": [
    "# create TF-IDF features\r\n",
    "xtrain_tfidf = tfidf_vectorizer.fit_transform(xtrain)\r\n",
    "xval_tfidf = tfidf_vectorizer.transform(xval)"
   ]
  },
  {
   "cell_type": "markdown",
   "metadata": {},
   "source": [
    "Building the model\r\n"
   ]
  },
  {
   "cell_type": "code",
   "execution_count": 19,
   "metadata": {},
   "outputs": [],
   "source": [
    "from sklearn.linear_model import LogisticRegression\r\n",
    "\r\n",
    "# Binary Relevance\r\n",
    "from sklearn.multiclass import OneVsRestClassifier\r\n",
    "\r\n",
    "# Performance metric\r\n",
    "from sklearn.metrics import f1_score"
   ]
  },
  {
   "cell_type": "code",
   "execution_count": 20,
   "metadata": {},
   "outputs": [],
   "source": [
    "lr = LogisticRegression()\r\n",
    "clf = OneVsRestClassifier(lr)"
   ]
  },
  {
   "cell_type": "code",
   "execution_count": 21,
   "metadata": {},
   "outputs": [],
   "source": [
    "# fit model on train data\r\n",
    "clf.fit(xtrain_tfidf, ytrain)"
   ]
  },
  {
   "cell_type": "code",
   "execution_count": null,
   "metadata": {},
   "outputs": [],
   "source": [
    "# make predictions for validation set\r\n",
    "y_pred = clf.predict(xval_tfidf)"
   ]
  },
  {
   "cell_type": "code",
   "execution_count": null,
   "metadata": {},
   "outputs": [
    {
     "name": "stderr",
     "output_type": "stream",
     "text": [
      "C:\\Users\\ameer\\AppData\\Local\\Programs\\Python\\Python39\\lib\\site-packages\\sklearn\\multiclass.py:80: UserWarning: Label not 48 is present in all training examples.\n",
      "  warnings.warn(\"Label %s is present in all training examples.\" %\n"
     ]
    },
    {
     "name": "stderr",
     "output_type": "stream",
     "text": [
      "C:\\Users\\ameer\\AppData\\Local\\Programs\\Python\\Python39\\lib\\site-packages\\sklearn\\multiclass.py:80: UserWarning: Label not 182 is present in all training examples.\n",
      "  warnings.warn(\"Label %s is present in all training examples.\" %\n"
     ]
    }
   ],
   "source": [
    "multilabel_binarizer.inverse_transform(y_pred)[3]"
   ]
  },
  {
   "cell_type": "code",
   "execution_count": null,
   "metadata": {},
   "outputs": [],
   "source": [
    "# evaluate performance\r\n",
    "f1_score(yval, y_pred, average=\"micro\")"
   ]
  },
  {
   "cell_type": "code",
   "execution_count": 25,
   "metadata": {},
   "outputs": [
    {
     "name": "stderr",
     "output_type": "stream",
     "text": [
      "C:\\Users\\ameer\\AppData\\Local\\Programs\\Python\\Python39\\lib\\site-packages\\sklearn\\multiclass.py:80: UserWarning: Label not 214 is present in all training examples.\n",
      "  warnings.warn(\"Label %s is present in all training examples.\" %\n"
     ]
    },
    {
     "name": "stderr",
     "output_type": "stream",
     "text": [
      "C:\\Users\\ameer\\AppData\\Local\\Programs\\Python\\Python39\\lib\\site-packages\\sklearn\\multiclass.py:80: UserWarning: Label not 245 is present in all training examples.\n",
      "  warnings.warn(\"Label %s is present in all training examples.\" %\n"
     ]
    },
    {
     "data": {
      "text/plain": "OneVsRestClassifier(estimator=LogisticRegression())"
     },
     "execution_count": 21,
     "metadata": {},
     "output_type": "execute_result"
    },
    {
     "data": {
      "text/plain": "('Action', 'Drama')"
     },
     "execution_count": 23,
     "metadata": {},
     "output_type": "execute_result"
    },
    {
     "data": {
      "text/plain": "0.3156683206302113"
     },
     "execution_count": 24,
     "metadata": {},
     "output_type": "execute_result"
    }
   ],
   "source": [
    "# predict probabilities\r\n",
    "y_pred_prob = clf.predict_proba(xval_tfidf)"
   ]
  },
  {
   "cell_type": "code",
   "execution_count": 26,
   "metadata": {},
   "outputs": [],
   "source": [
    "t = 0.3 # threshold value\r\n",
    "y_pred_new = (y_pred_prob >= t).astype(int)"
   ]
  },
  {
   "cell_type": "code",
   "execution_count": 27,
   "metadata": {},
   "outputs": [
    {
     "data": {
      "text/plain": "0.437668381092334"
     },
     "execution_count": 27,
     "metadata": {},
     "output_type": "execute_result"
    }
   ],
   "source": [
    "# evaluate performance\r\n",
    "f1_score(yval, y_pred_new, average=\"micro\")"
   ]
  },
  {
   "cell_type": "code",
   "execution_count": 28,
   "metadata": {},
   "outputs": [],
   "source": [
    "def infer_tags(q):\r\n",
    "    q = clean_text(q)\r\n",
    "    q = remove_stopwords(q)\r\n",
    "    q_vec = tfidf_vectorizer.transform([q])\r\n",
    "    q_pred = clf.predict(q_vec)\r\n",
    "    return multilabel_binarizer.inverse_transform(q_pred)"
   ]
  },
  {
   "cell_type": "code",
   "execution_count": 29,
   "metadata": {},
   "outputs": [
    {
     "name": "stdout",
     "output_type": "stream",
     "text": [
      "Movie:  Indochine \n",
      "Predicted genre:  [('Drama',)]\n",
      "Actual genre:  ['World cinema', 'Epic', 'Drama', 'War film', 'Romantic drama', 'Romance Film'] \n",
      "\n",
      "Movie:  Train of Life \n",
      "Predicted genre:  [()]\n",
      "Actual genre:  ['Tragicomedy', 'Romance Film', 'Comedy-drama', 'Comedy', 'War film'] \n",
      "\n",
      "Movie:  Heartbreakers \n",
      "Predicted genre:  [('Comedy',)]\n",
      "Actual genre:  ['Drama'] \n",
      "\n",
      "Movie:  While I Live \n",
      "Predicted genre:  [('Drama',)]\n",
      "Actual genre:  ['Thriller', 'Drama'] \n",
      "\n",
      "Movie:  Cheerleader Queens \n",
      "Predicted genre:  [('Comedy', 'Sports')]\n",
      "Actual genre:  ['LGBT'] \n",
      "\n"
     ]
    }
   ],
   "source": [
    "for i in range(5): \r\n",
    "  k = xval.sample(1).index[0] \r\n",
    "  print(\"Movie: \", movies_new['movie_name'][k], \"\\nPredicted genre: \", infer_tags(xval[k])), print(\"Actual genre: \",movies_new['genre_new'][k], \"\\n\")\r\n"
   ]
  },
  {
   "cell_type": "code",
   "execution_count": 50,
   "metadata": {},
   "outputs": [
    {
     "data": {
      "text/html": "<div>\n<style scoped>\n    .dataframe tbody tr th:only-of-type {\n        vertical-align: middle;\n    }\n\n    .dataframe tbody tr th {\n        vertical-align: top;\n    }\n\n    .dataframe thead th {\n        text-align: right;\n    }\n</style>\n<table border=\"1\" class=\"dataframe\">\n  <thead>\n    <tr style=\"text-align: right;\">\n      <th></th>\n      <th>movie_id</th>\n      <th>plot</th>\n      <th>movie_name</th>\n      <th>genre</th>\n      <th>genre_new</th>\n      <th>clean_plot</th>\n    </tr>\n  </thead>\n  <tbody>\n    <tr>\n      <th>0</th>\n      <td>23890098</td>\n      <td>Shlykov, a hard-working taxi driver and Lyosha, a saxophonist, develop a bizarre love-hate relationship, and despite their prejudices, realize they aren't so different after all.</td>\n      <td>Taxi Blues</td>\n      <td>{\"/m/07s9rl0\": \"Drama\", \"/m/03q4nz\": \"World cinema\"}</td>\n      <td>[Drama, World cinema]</td>\n      <td>shlykov hard working taxi driver lyosha saxophonist develop bizarre love hate relationship despite prejudices realize arent different</td>\n    </tr>\n    <tr>\n      <th>1</th>\n      <td>31186339</td>\n      <td>The nation of Panem consists of a wealthy Capitol and twelve poorer districts. As punishment for a past rebellion, each district must provide a boy and girl  between the ages of 12 and 18 selected by lottery  for the annual Hunger Games. The tributes must fight to the death in an arena; the sole...</td>\n      <td>The Hunger Games</td>\n      <td>{\"/m/03btsm8\": \"Action/Adventure\", \"/m/06n90\": \"Science Fiction\", \"/m/02kdv5l\": \"Action\", \"/m/07s9rl0\": \"Drama\"}</td>\n      <td>[Action/Adventure, Science Fiction, Action, Drama]</td>\n      <td>nation panem consists wealthy capitol twelve poorer districts punishment past rebellion district must provide boy girl ages selected lottery annual hunger games tributes must fight death arena sole survivor rewarded fame wealth first reaping year old primrose everdeen chosen district older siste...</td>\n    </tr>\n    <tr>\n      <th>2</th>\n      <td>20663735</td>\n      <td>Poovalli Induchoodan  is sentenced for six years prison life for murdering his classmate. Induchoodan, the only son of Justice Maranchery Karunakara Menon  was framed in the case by Manapally Madhavan Nambiar  and his crony DYSP Sankaranarayanan  to take revenge on idealist judge Menon who had e...</td>\n      <td>Narasimham</td>\n      <td>{\"/m/04t36\": \"Musical\", \"/m/02kdv5l\": \"Action\", \"/m/07s9rl0\": \"Drama\", \"/m/01chg\": \"Bollywood\"}</td>\n      <td>[Musical, Action, Drama, Bollywood]</td>\n      <td>poovalli induchoodan sentenced six years prison life murdering classmate induchoodan son justice maranchery karunakara menon framed case manapally madhavan nambiar crony dysp sankaranarayanan take revenge idealist judge menon earlier given jail sentence manapally corruption case induchoodan achi...</td>\n    </tr>\n    <tr>\n      <th>3</th>\n      <td>2231378</td>\n      <td>The Lemon Drop Kid , a New York City swindler, is illegally touting horses at a Florida racetrack. After several successful hustles, the Kid comes across a beautiful, but gullible, woman intending to bet a lot of money. The Kid convinces her to switch her bet, employing a prefabricated con. Unfo...</td>\n      <td>The Lemon Drop Kid</td>\n      <td>{\"/m/06qm3\": \"Screwball comedy\", \"/m/01z4y\": \"Comedy\"}</td>\n      <td>[Screwball comedy, Comedy]</td>\n      <td>lemon drop kid new york city swindler illegally touting horses florida racetrack several successful hustles kid comes across beautiful gullible woman intending bet lot money kid convinces switch bet employing prefabricated con unfortunately kid woman belongs notorious gangster moose moran money ...</td>\n    </tr>\n    <tr>\n      <th>4</th>\n      <td>595909</td>\n      <td>Seventh-day Adventist Church pastor Michael Chamberlain, his wife Lindy, their two sons, and their nine-week-old daughter Azaria are on a camping holiday in the Outback. With the baby sleeping in their tent, the family is enjoying a barbecue with their fellow campers when a cry is heard. Lindy r...</td>\n      <td>A Cry in the Dark</td>\n      <td>{\"/m/0lsxr\": \"Crime Fiction\", \"/m/07s9rl0\": \"Drama\", \"/m/01f9r0\": \"Docudrama\", \"/m/03q4nz\": \"World cinema\", \"/m/05bh16v\": \"Courtroom Drama\"}</td>\n      <td>[Crime Fiction, Drama, Docudrama, World cinema, Courtroom Drama]</td>\n      <td>seventh day adventist church pastor michael chamberlain wife lindy two sons nine week old daughter azaria camping holiday outback baby sleeping tent family enjoying barbecue fellow campers cry heard lindy returns tent check azaria certain sees dingo something mouth running approaches discovers i...</td>\n    </tr>\n  </tbody>\n</table>\n</div>",
      "text/plain": "   movie_id  \\\n0  23890098   \n1  31186339   \n2  20663735   \n3   2231378   \n4    595909   \n\n                                                                                                                                                                                                                                                                                                          plot  \\\n0                                                                                                                           Shlykov, a hard-working taxi driver and Lyosha, a saxophonist, develop a bizarre love-hate relationship, and despite their prejudices, realize they aren't so different after all.   \n1  The nation of Panem consists of a wealthy Capitol and twelve poorer districts. As punishment for a past rebellion, each district must provide a boy and girl  between the ages of 12 and 18 selected by lottery  for the annual Hunger Games. The tributes must fight to the death in an arena; the sole...   \n2  Poovalli Induchoodan  is sentenced for six years prison life for murdering his classmate. Induchoodan, the only son of Justice Maranchery Karunakara Menon  was framed in the case by Manapally Madhavan Nambiar  and his crony DYSP Sankaranarayanan  to take revenge on idealist judge Menon who had e...   \n3  The Lemon Drop Kid , a New York City swindler, is illegally touting horses at a Florida racetrack. After several successful hustles, the Kid comes across a beautiful, but gullible, woman intending to bet a lot of money. The Kid convinces her to switch her bet, employing a prefabricated con. Unfo...   \n4  Seventh-day Adventist Church pastor Michael Chamberlain, his wife Lindy, their two sons, and their nine-week-old daughter Azaria are on a camping holiday in the Outback. With the baby sleeping in their tent, the family is enjoying a barbecue with their fellow campers when a cry is heard. Lindy r...   \n\n           movie_name  \\\n0          Taxi Blues   \n1    The Hunger Games   \n2          Narasimham   \n3  The Lemon Drop Kid   \n4   A Cry in the Dark   \n\n                                                                                                                                          genre  \\\n0                                                                                          {\"/m/07s9rl0\": \"Drama\", \"/m/03q4nz\": \"World cinema\"}   \n1                              {\"/m/03btsm8\": \"Action/Adventure\", \"/m/06n90\": \"Science Fiction\", \"/m/02kdv5l\": \"Action\", \"/m/07s9rl0\": \"Drama\"}   \n2                                               {\"/m/04t36\": \"Musical\", \"/m/02kdv5l\": \"Action\", \"/m/07s9rl0\": \"Drama\", \"/m/01chg\": \"Bollywood\"}   \n3                                                                                        {\"/m/06qm3\": \"Screwball comedy\", \"/m/01z4y\": \"Comedy\"}   \n4  {\"/m/0lsxr\": \"Crime Fiction\", \"/m/07s9rl0\": \"Drama\", \"/m/01f9r0\": \"Docudrama\", \"/m/03q4nz\": \"World cinema\", \"/m/05bh16v\": \"Courtroom Drama\"}   \n\n                                                          genre_new  \\\n0                                             [Drama, World cinema]   \n1                [Action/Adventure, Science Fiction, Action, Drama]   \n2                               [Musical, Action, Drama, Bollywood]   \n3                                        [Screwball comedy, Comedy]   \n4  [Crime Fiction, Drama, Docudrama, World cinema, Courtroom Drama]   \n\n                                                                                                                                                                                                                                                                                                    clean_plot  \n0                                                                                                                                                                        shlykov hard working taxi driver lyosha saxophonist develop bizarre love hate relationship despite prejudices realize arent different  \n1  nation panem consists wealthy capitol twelve poorer districts punishment past rebellion district must provide boy girl ages selected lottery annual hunger games tributes must fight death arena sole survivor rewarded fame wealth first reaping year old primrose everdeen chosen district older siste...  \n2  poovalli induchoodan sentenced six years prison life murdering classmate induchoodan son justice maranchery karunakara menon framed case manapally madhavan nambiar crony dysp sankaranarayanan take revenge idealist judge menon earlier given jail sentence manapally corruption case induchoodan achi...  \n3  lemon drop kid new york city swindler illegally touting horses florida racetrack several successful hustles kid comes across beautiful gullible woman intending bet lot money kid convinces switch bet employing prefabricated con unfortunately kid woman belongs notorious gangster moose moran money ...  \n4  seventh day adventist church pastor michael chamberlain wife lindy two sons nine week old daughter azaria camping holiday outback baby sleeping tent family enjoying barbecue fellow campers cry heard lindy returns tent check azaria certain sees dingo something mouth running approaches discovers i...  "
     },
     "execution_count": 50,
     "metadata": {},
     "output_type": "execute_result"
    }
   ],
   "source": [
    "movies_new.head(5)"
   ]
  },
  {
   "cell_type": "code",
   "execution_count": 36,
   "metadata": {},
   "outputs": [
    {
     "data": {
      "text/html": "<div>\n<style scoped>\n    .dataframe tbody tr th:only-of-type {\n        vertical-align: middle;\n    }\n\n    .dataframe tbody tr th {\n        vertical-align: top;\n    }\n\n    .dataframe thead th {\n        text-align: right;\n    }\n</style>\n<table border=\"1\" class=\"dataframe\">\n  <thead>\n    <tr style=\"text-align: right;\">\n      <th></th>\n      <th>Unnamed: 0</th>\n      <th>imdb_title_id</th>\n      <th>title</th>\n      <th>original_title</th>\n      <th>year</th>\n      <th>date_published</th>\n      <th>genre</th>\n      <th>duration</th>\n      <th>country</th>\n      <th>language</th>\n      <th>...</th>\n      <th>budget</th>\n      <th>usa_gross_income</th>\n      <th>worlwide_gross_income</th>\n      <th>metascore</th>\n      <th>reviews_from_users</th>\n      <th>reviews_from_critics</th>\n      <th>id</th>\n      <th>encoded_genre</th>\n      <th>writer_encoded</th>\n      <th>director_encoded</th>\n    </tr>\n  </thead>\n  <tbody>\n    <tr>\n      <th>26888</th>\n      <td>26888</td>\n      <td>tt7822474</td>\n      <td>Suvarna Sundari</td>\n      <td>Suvarna Sundari</td>\n      <td>2019</td>\n      <td>2019-05-31</td>\n      <td>['Action', 'Thriller']</td>\n      <td>120</td>\n      <td>India</td>\n      <td>Telugu, Kannada</td>\n      <td>...</td>\n      <td>NaN</td>\n      <td>NaN</td>\n      <td>NaN</td>\n      <td>NaN</td>\n      <td>NaN</td>\n      <td>2.0</td>\n      <td>26888</td>\n      <td>[ 0 20]</td>\n      <td>[0]</td>\n      <td>[7959]</td>\n    </tr>\n    <tr>\n      <th>27401</th>\n      <td>27401</td>\n      <td>tt9008642</td>\n      <td>Notuku Potu</td>\n      <td>Notuku Potu</td>\n      <td>2017</td>\n      <td>2017-03-24</td>\n      <td>['Horror', 'Mystery']</td>\n      <td>121</td>\n      <td>India</td>\n      <td>Telugu</td>\n      <td>...</td>\n      <td>NaN</td>\n      <td>NaN</td>\n      <td>NaN</td>\n      <td>NaN</td>\n      <td>2.0</td>\n      <td>1.0</td>\n      <td>27401</td>\n      <td>[12 15]</td>\n      <td>[0]</td>\n      <td>[1248]</td>\n    </tr>\n    <tr>\n      <th>19774</th>\n      <td>19774</td>\n      <td>tt11976170</td>\n      <td>Jeeudo</td>\n      <td>Jeeudo</td>\n      <td>2020</td>\n      <td>2020-02-27</td>\n      <td>['Drama', 'Romance']</td>\n      <td>150</td>\n      <td>India</td>\n      <td>English, Nepali</td>\n      <td>...</td>\n      <td>INR 4700000</td>\n      <td>NaN</td>\n      <td>NaN</td>\n      <td>NaN</td>\n      <td>114.0</td>\n      <td>NaN</td>\n      <td>19774</td>\n      <td>[ 7 17]</td>\n      <td>[  40 3222]</td>\n      <td>[21]</td>\n    </tr>\n    <tr>\n      <th>19959</th>\n      <td>19959</td>\n      <td>tt12492650</td>\n      <td>Ek</td>\n      <td>Ek</td>\n      <td>2019</td>\n      <td>2019-06-14</td>\n      <td>['Action', 'Drama']</td>\n      <td>129</td>\n      <td>India</td>\n      <td>Telugu</td>\n      <td>...</td>\n      <td>INR 20000000</td>\n      <td>NaN</td>\n      <td>NaN</td>\n      <td>NaN</td>\n      <td>NaN</td>\n      <td>NaN</td>\n      <td>19959</td>\n      <td>[0 7]</td>\n      <td>[7753]</td>\n      <td>[10060]</td>\n    </tr>\n    <tr>\n      <th>19452</th>\n      <td>19452</td>\n      <td>tt11207902</td>\n      <td>Lejos de Casa pelicula Venezolana</td>\n      <td>Lejos de Casa pelicula Venezolana</td>\n      <td>2020</td>\n      <td>2020-03-19</td>\n      <td>['Drama', 'History']</td>\n      <td>87</td>\n      <td>Venezuela</td>\n      <td>Spanish</td>\n      <td>...</td>\n      <td>$ 5000</td>\n      <td>NaN</td>\n      <td>NaN</td>\n      <td>NaN</td>\n      <td>NaN</td>\n      <td>NaN</td>\n      <td>19452</td>\n      <td>[ 7 11]</td>\n      <td>[4262  133]</td>\n      <td>[76]</td>\n    </tr>\n  </tbody>\n</table>\n<p>5 rows × 27 columns</p>\n</div>",
      "text/plain": "       Unnamed: 0 imdb_title_id                              title  \\\n26888       26888     tt7822474                    Suvarna Sundari   \n27401       27401     tt9008642                        Notuku Potu   \n19774       19774    tt11976170                             Jeeudo   \n19959       19959    tt12492650                                 Ek   \n19452       19452    tt11207902  Lejos de Casa pelicula Venezolana   \n\n                          original_title  year date_published  \\\n26888                    Suvarna Sundari  2019     2019-05-31   \n27401                        Notuku Potu  2017     2017-03-24   \n19774                             Jeeudo  2020     2020-02-27   \n19959                                 Ek  2019     2019-06-14   \n19452  Lejos de Casa pelicula Venezolana  2020     2020-03-19   \n\n                        genre  duration    country         language  ...  \\\n26888  ['Action', 'Thriller']       120      India  Telugu, Kannada  ...   \n27401   ['Horror', 'Mystery']       121      India           Telugu  ...   \n19774    ['Drama', 'Romance']       150      India  English, Nepali  ...   \n19959     ['Action', 'Drama']       129      India           Telugu  ...   \n19452    ['Drama', 'History']        87  Venezuela          Spanish  ...   \n\n             budget usa_gross_income worlwide_gross_income metascore  \\\n26888           NaN              NaN                   NaN       NaN   \n27401           NaN              NaN                   NaN       NaN   \n19774   INR 4700000              NaN                   NaN       NaN   \n19959  INR 20000000              NaN                   NaN       NaN   \n19452        $ 5000              NaN                   NaN       NaN   \n\n      reviews_from_users  reviews_from_critics     id encoded_genre  \\\n26888                NaN                   2.0  26888       [ 0 20]   \n27401                2.0                   1.0  27401       [12 15]   \n19774              114.0                   NaN  19774       [ 7 17]   \n19959                NaN                   NaN  19959         [0 7]   \n19452                NaN                   NaN  19452       [ 7 11]   \n\n      writer_encoded director_encoded  \n26888            [0]           [7959]  \n27401            [0]           [1248]  \n19774    [  40 3222]             [21]  \n19959         [7753]          [10060]  \n19452    [4262  133]             [76]  \n\n[5 rows x 27 columns]"
     },
     "execution_count": 36,
     "metadata": {},
     "output_type": "execute_result"
    }
   ],
   "source": [
    "movies_df = pd.read_csv('../Resources/modified_movies.csv',low_memory=False)\r\n",
    "movies_df.sort_values(by=['avg_vote'], inplace=True, ascending=False)\r\n",
    "movies_df.head(5)"
   ]
  },
  {
   "cell_type": "code",
   "execution_count": 56,
   "metadata": {},
   "outputs": [],
   "source": [
    "extended_genre =[]\r\n",
    "for m in movies_df['original_title']:\r\n",
    "        if m in list(movies_new['movie_name']):\r\n",
    "                extended_genre.append(movies_new.loc[movies_new['movie_name'] == m]['genre_new'])\r\n",
    "        else:\r\n",
    "                extended_genre.append(None)\r\n",
    "\r\n"
   ]
  },
  {
   "cell_type": "code",
   "execution_count": 57,
   "metadata": {},
   "outputs": [],
   "source": [
    "movies_df['extended_genre'] =  extended_genre"
   ]
  },
  {
   "cell_type": "code",
   "execution_count": 58,
   "metadata": {},
   "outputs": [
    {
     "data": {
      "text/plain": "Index(['Unnamed: 0', 'imdb_title_id', 'title', 'original_title', 'year',\n       'date_published', 'genre', 'duration', 'country', 'language',\n       'director', 'writer', 'production_company', 'actors', 'description',\n       'avg_vote', 'votes', 'budget', 'usa_gross_income',\n       'worlwide_gross_income', 'metascore', 'reviews_from_users',\n       'reviews_from_critics', 'id', 'encoded_genre', 'writer_encoded',\n       'director_encoded', 'extended_genre'],\n      dtype='object')"
     },
     "execution_count": 58,
     "metadata": {},
     "output_type": "execute_result"
    }
   ],
   "source": [
    "movies_df.columns"
   ]
  },
  {
   "cell_type": "code",
   "execution_count": 68,
   "metadata": {},
   "outputs": [],
   "source": [
    "def change(row):\r\n",
    "    if(row['extended_genre'] is None ):\r\n",
    "        r = infer_tags(row['description'])\r\n",
    "    else:\r\n",
    "        r = row['extended_genre']\r\n",
    "        print(row['extended_genre'])\r\n",
    "\r\n",
    "    return r\r\n",
    "\r\n",
    "#movies_df.apply(lambda x: change(x))"
   ]
  },
  {
   "cell_type": "code",
   "execution_count": 69,
   "metadata": {},
   "outputs": [],
   "source": [
    "results = movies_df.apply(change, axis=1)"
   ]
  },
  {
   "cell_type": "code",
   "execution_count": 70,
   "metadata": {},
   "outputs": [
    {
     "name": "stdout",
     "output_type": "stream",
     "text": [
      "26888                           [()]\n",
      "27401                  [(Thriller,)]\n",
      "19774        [(Drama, Romance Film)]\n",
      "19959                     [(Drama,)]\n",
      "19452                     [(Drama,)]\n",
      "                    ...             \n",
      "18299                           [()]\n",
      "9696     [(Horror, Science Fiction)]\n",
      "25236                           [()]\n",
      "9693                            [()]\n",
      "13837                    [(Horror,)]\n",
      "Length: 27675, dtype: object\n"
     ]
    }
   ],
   "source": [
    "print(results)"
   ]
  },
  {
   "cell_type": "code",
   "execution_count": null,
   "metadata": {},
   "outputs": [],
   "source": []
  },
  {
   "cell_type": "code",
   "execution_count": 72,
   "metadata": {},
   "outputs": [
    {
     "data": {
      "text/html": "<div>\n<style scoped>\n    .dataframe tbody tr th:only-of-type {\n        vertical-align: middle;\n    }\n\n    .dataframe tbody tr th {\n        vertical-align: top;\n    }\n\n    .dataframe thead th {\n        text-align: right;\n    }\n</style>\n<table border=\"1\" class=\"dataframe\">\n  <thead>\n    <tr style=\"text-align: right;\">\n      <th></th>\n      <th>Unnamed: 0</th>\n      <th>imdb_title_id</th>\n      <th>title</th>\n      <th>original_title</th>\n      <th>year</th>\n      <th>date_published</th>\n      <th>genre</th>\n      <th>duration</th>\n      <th>country</th>\n      <th>language</th>\n      <th>...</th>\n      <th>usa_gross_income</th>\n      <th>worlwide_gross_income</th>\n      <th>metascore</th>\n      <th>reviews_from_users</th>\n      <th>reviews_from_critics</th>\n      <th>id</th>\n      <th>encoded_genre</th>\n      <th>writer_encoded</th>\n      <th>director_encoded</th>\n      <th>extended_genre</th>\n    </tr>\n  </thead>\n  <tbody>\n    <tr>\n      <th>26888</th>\n      <td>26888</td>\n      <td>tt7822474</td>\n      <td>Suvarna Sundari</td>\n      <td>Suvarna Sundari</td>\n      <td>2019</td>\n      <td>2019-05-31</td>\n      <td>['Action', 'Thriller']</td>\n      <td>120</td>\n      <td>India</td>\n      <td>Telugu, Kannada</td>\n      <td>...</td>\n      <td>NaN</td>\n      <td>NaN</td>\n      <td>NaN</td>\n      <td>NaN</td>\n      <td>2.0</td>\n      <td>26888</td>\n      <td>[ 0 20]</td>\n      <td>[0]</td>\n      <td>[7959]</td>\n      <td>[()]</td>\n    </tr>\n    <tr>\n      <th>27401</th>\n      <td>27401</td>\n      <td>tt9008642</td>\n      <td>Notuku Potu</td>\n      <td>Notuku Potu</td>\n      <td>2017</td>\n      <td>2017-03-24</td>\n      <td>['Horror', 'Mystery']</td>\n      <td>121</td>\n      <td>India</td>\n      <td>Telugu</td>\n      <td>...</td>\n      <td>NaN</td>\n      <td>NaN</td>\n      <td>NaN</td>\n      <td>2.0</td>\n      <td>1.0</td>\n      <td>27401</td>\n      <td>[12 15]</td>\n      <td>[0]</td>\n      <td>[1248]</td>\n      <td>[(Thriller,)]</td>\n    </tr>\n    <tr>\n      <th>19774</th>\n      <td>19774</td>\n      <td>tt11976170</td>\n      <td>Jeeudo</td>\n      <td>Jeeudo</td>\n      <td>2020</td>\n      <td>2020-02-27</td>\n      <td>['Drama', 'Romance']</td>\n      <td>150</td>\n      <td>India</td>\n      <td>English, Nepali</td>\n      <td>...</td>\n      <td>NaN</td>\n      <td>NaN</td>\n      <td>NaN</td>\n      <td>114.0</td>\n      <td>NaN</td>\n      <td>19774</td>\n      <td>[ 7 17]</td>\n      <td>[  40 3222]</td>\n      <td>[21]</td>\n      <td>[(Drama, Romance Film)]</td>\n    </tr>\n    <tr>\n      <th>19959</th>\n      <td>19959</td>\n      <td>tt12492650</td>\n      <td>Ek</td>\n      <td>Ek</td>\n      <td>2019</td>\n      <td>2019-06-14</td>\n      <td>['Action', 'Drama']</td>\n      <td>129</td>\n      <td>India</td>\n      <td>Telugu</td>\n      <td>...</td>\n      <td>NaN</td>\n      <td>NaN</td>\n      <td>NaN</td>\n      <td>NaN</td>\n      <td>NaN</td>\n      <td>19959</td>\n      <td>[0 7]</td>\n      <td>[7753]</td>\n      <td>[10060]</td>\n      <td>[(Drama,)]</td>\n    </tr>\n    <tr>\n      <th>19452</th>\n      <td>19452</td>\n      <td>tt11207902</td>\n      <td>Lejos de Casa pelicula Venezolana</td>\n      <td>Lejos de Casa pelicula Venezolana</td>\n      <td>2020</td>\n      <td>2020-03-19</td>\n      <td>['Drama', 'History']</td>\n      <td>87</td>\n      <td>Venezuela</td>\n      <td>Spanish</td>\n      <td>...</td>\n      <td>NaN</td>\n      <td>NaN</td>\n      <td>NaN</td>\n      <td>NaN</td>\n      <td>NaN</td>\n      <td>19452</td>\n      <td>[ 7 11]</td>\n      <td>[4262  133]</td>\n      <td>[76]</td>\n      <td>[(Drama,)]</td>\n    </tr>\n    <tr>\n      <th>27237</th>\n      <td>27237</td>\n      <td>tt8571428</td>\n      <td>Vaarthakal Ithuvare</td>\n      <td>Vaarthakal Ithuvare</td>\n      <td>2019</td>\n      <td>2019-11-22</td>\n      <td>['Comedy']</td>\n      <td>121</td>\n      <td>India</td>\n      <td>Malayalam</td>\n      <td>...</td>\n      <td>NaN</td>\n      <td>NaN</td>\n      <td>NaN</td>\n      <td>20.0</td>\n      <td>NaN</td>\n      <td>27237</td>\n      <td>[4]</td>\n      <td>[13134]</td>\n      <td>[6990]</td>\n      <td>[()]</td>\n    </tr>\n    <tr>\n      <th>20729</th>\n      <td>20729</td>\n      <td>tt1508669</td>\n      <td>Hopeful Notes</td>\n      <td>Hopeful Notes</td>\n      <td>2010</td>\n      <td>2010-12-15</td>\n      <td>['Drama']</td>\n      <td>94</td>\n      <td>USA</td>\n      <td>English</td>\n      <td>...</td>\n      <td>NaN</td>\n      <td>NaN</td>\n      <td>NaN</td>\n      <td>2.0</td>\n      <td>2.0</td>\n      <td>20729</td>\n      <td>[7]</td>\n      <td>[21369]</td>\n      <td>[11588]</td>\n      <td>[(Drama,)]</td>\n    </tr>\n    <tr>\n      <th>20046</th>\n      <td>20046</td>\n      <td>tt12747588</td>\n      <td>Meka Suri</td>\n      <td>Meka Suri</td>\n      <td>2020</td>\n      <td>2020-07-31</td>\n      <td>['Crime', 'Thriller']</td>\n      <td>86</td>\n      <td>India</td>\n      <td>Telugu</td>\n      <td>...</td>\n      <td>NaN</td>\n      <td>NaN</td>\n      <td>NaN</td>\n      <td>502.0</td>\n      <td>NaN</td>\n      <td>20046</td>\n      <td>[ 5 20]</td>\n      <td>[0]</td>\n      <td>[11461]</td>\n      <td>[()]</td>\n    </tr>\n    <tr>\n      <th>19437</th>\n      <td>19437</td>\n      <td>tt11164090</td>\n      <td>The Moving on Phase</td>\n      <td>The Moving on Phase</td>\n      <td>2020</td>\n      <td>2020-05-11</td>\n      <td>['Comedy']</td>\n      <td>85</td>\n      <td>USA</td>\n      <td>English</td>\n      <td>...</td>\n      <td>NaN</td>\n      <td>NaN</td>\n      <td>NaN</td>\n      <td>NaN</td>\n      <td>NaN</td>\n      <td>19437</td>\n      <td>[4]</td>\n      <td>[4945]</td>\n      <td>[2760]</td>\n      <td>[(Drama,)]</td>\n    </tr>\n    <tr>\n      <th>22998</th>\n      <td>22998</td>\n      <td>tt2673212</td>\n      <td>The Best Years</td>\n      <td>The Best Years</td>\n      <td>2013</td>\n      <td>2013-04-25</td>\n      <td>['Comedy', 'Crime', 'Drama']</td>\n      <td>96</td>\n      <td>UK</td>\n      <td>English</td>\n      <td>...</td>\n      <td>NaN</td>\n      <td>NaN</td>\n      <td>NaN</td>\n      <td>NaN</td>\n      <td>NaN</td>\n      <td>22998</td>\n      <td>[4 5 7]</td>\n      <td>[4243]</td>\n      <td>[2362]</td>\n      <td>[()]</td>\n    </tr>\n    <tr>\n      <th>18818</th>\n      <td>18818</td>\n      <td>tt0989831</td>\n      <td>Jibon Theke Neya</td>\n      <td>Jibon Theke Neya</td>\n      <td>1970</td>\n      <td>1970-04-10</td>\n      <td>['Drama', 'Family', 'War']</td>\n      <td>150</td>\n      <td>Bangladesh</td>\n      <td>Bengali</td>\n      <td>...</td>\n      <td>NaN</td>\n      <td>NaN</td>\n      <td>NaN</td>\n      <td>11.0</td>\n      <td>2.0</td>\n      <td>18818</td>\n      <td>[ 7  8 21]</td>\n      <td>[22757  1036]</td>\n      <td>[12308]</td>\n      <td>[(Drama,)]</td>\n    </tr>\n    <tr>\n      <th>17469</th>\n      <td>17469</td>\n      <td>tt0451130</td>\n      <td>Moussaka &amp; Chips</td>\n      <td>Moussaka &amp; Chips</td>\n      <td>2005</td>\n      <td>2005-11-13</td>\n      <td>['Adventure']</td>\n      <td>90</td>\n      <td>UK</td>\n      <td>English</td>\n      <td>...</td>\n      <td>NaN</td>\n      <td>NaN</td>\n      <td>NaN</td>\n      <td>NaN</td>\n      <td>NaN</td>\n      <td>17469</td>\n      <td>[1]</td>\n      <td>[5540 4243]</td>\n      <td>[2362]</td>\n      <td>[()]</td>\n    </tr>\n    <tr>\n      <th>26265</th>\n      <td>26265</td>\n      <td>tt6735740</td>\n      <td>Love in Kilnerry</td>\n      <td>Love in Kilnerry</td>\n      <td>2019</td>\n      <td>2019-06-23</td>\n      <td>['Comedy']</td>\n      <td>100</td>\n      <td>USA</td>\n      <td>English</td>\n      <td>...</td>\n      <td>NaN</td>\n      <td>NaN</td>\n      <td>NaN</td>\n      <td>17.0</td>\n      <td>11.0</td>\n      <td>26265</td>\n      <td>[4]</td>\n      <td>[4171]</td>\n      <td>[ 2315 10584]</td>\n      <td>[()]</td>\n    </tr>\n    <tr>\n      <th>18986</th>\n      <td>18986</td>\n      <td>tt10218912</td>\n      <td>As I Am</td>\n      <td>As I Am</td>\n      <td>2019</td>\n      <td>2019-12-06</td>\n      <td>['Drama', 'Fantasy', 'Romance']</td>\n      <td>62</td>\n      <td>USA</td>\n      <td>English</td>\n      <td>...</td>\n      <td>NaN</td>\n      <td>NaN</td>\n      <td>NaN</td>\n      <td>5.0</td>\n      <td>NaN</td>\n      <td>18986</td>\n      <td>[ 7  9 17]</td>\n      <td>[1526]</td>\n      <td>[860]</td>\n      <td>[(Drama,)]</td>\n    </tr>\n    <tr>\n      <th>11161</th>\n      <td>11161</td>\n      <td>tt0111161</td>\n      <td>Le ali della libertà</td>\n      <td>The Shawshank Redemption</td>\n      <td>1994</td>\n      <td>1995-02-10</td>\n      <td>['Drama']</td>\n      <td>142</td>\n      <td>USA</td>\n      <td>English</td>\n      <td>...</td>\n      <td>$ 28699976</td>\n      <td>$ 28815245</td>\n      <td>80.0</td>\n      <td>8232.0</td>\n      <td>164.0</td>\n      <td>11161</td>\n      <td>[7]</td>\n      <td>[19902  6346]</td>\n      <td>[3410]</td>\n      <td>[(Drama,)]</td>\n    </tr>\n    <tr>\n      <th>14559</th>\n      <td>14559</td>\n      <td>tt0252487</td>\n      <td>Hababam Sinifi</td>\n      <td>Hababam Sinifi</td>\n      <td>1975</td>\n      <td>1975-04-01</td>\n      <td>['Comedy', 'Drama']</td>\n      <td>87</td>\n      <td>Turkey</td>\n      <td>Turkish</td>\n      <td>...</td>\n      <td>NaN</td>\n      <td>NaN</td>\n      <td>NaN</td>\n      <td>62.0</td>\n      <td>1.0</td>\n      <td>14559</td>\n      <td>[4 7]</td>\n      <td>[21255 17734]</td>\n      <td>[3137]</td>\n      <td>[()]</td>\n    </tr>\n    <tr>\n      <th>27583</th>\n      <td>27583</td>\n      <td>tt9610354</td>\n      <td>Ninnu Thalachi</td>\n      <td>Ninnu Thalachi</td>\n      <td>2019</td>\n      <td>2019-09-27</td>\n      <td>['Comedy', 'Romance']</td>\n      <td>138</td>\n      <td>India</td>\n      <td>Telugu</td>\n      <td>...</td>\n      <td>NaN</td>\n      <td>NaN</td>\n      <td>NaN</td>\n      <td>4.0</td>\n      <td>NaN</td>\n      <td>27583</td>\n      <td>[ 4 17]</td>\n      <td>[0]</td>\n      <td>[809]</td>\n      <td>[(Romance Film,)]</td>\n    </tr>\n    <tr>\n      <th>19639</th>\n      <td>19639</td>\n      <td>tt11617492</td>\n      <td>Orbius</td>\n      <td>Orbius</td>\n      <td>2020</td>\n      <td>2020-01-16</td>\n      <td>['Fantasy']</td>\n      <td>570</td>\n      <td>Russia</td>\n      <td>None</td>\n      <td>...</td>\n      <td>NaN</td>\n      <td>NaN</td>\n      <td>NaN</td>\n      <td>NaN</td>\n      <td>NaN</td>\n      <td>19639</td>\n      <td>[9]</td>\n      <td>[19122]</td>\n      <td>[10290]</td>\n      <td>[()]</td>\n    </tr>\n    <tr>\n      <th>24860</th>\n      <td>24860</td>\n      <td>tt4897596</td>\n      <td>Digbhayam</td>\n      <td>Digbhayam</td>\n      <td>2019</td>\n      <td>2019-05-24</td>\n      <td>['Thriller']</td>\n      <td>107</td>\n      <td>India</td>\n      <td>Kannada</td>\n      <td>...</td>\n      <td>NaN</td>\n      <td>NaN</td>\n      <td>NaN</td>\n      <td>6.0</td>\n      <td>NaN</td>\n      <td>24860</td>\n      <td>[20]</td>\n      <td>[1033]</td>\n      <td>[583]</td>\n      <td>[(Thriller,)]</td>\n    </tr>\n    <tr>\n      <th>25733</th>\n      <td>25733</td>\n      <td>tt5980638</td>\n      <td>The Transcendents</td>\n      <td>The Transcendents</td>\n      <td>2018</td>\n      <td>2020-06-19</td>\n      <td>['Music', 'Mystery', 'Thriller']</td>\n      <td>96</td>\n      <td>USA</td>\n      <td>English</td>\n      <td>...</td>\n      <td>$ 1090</td>\n      <td>$ 1090</td>\n      <td>NaN</td>\n      <td>3.0</td>\n      <td>4.0</td>\n      <td>25733</td>\n      <td>[13 15 20]</td>\n      <td>[4678]</td>\n      <td>[2598]</td>\n      <td>[()]</td>\n    </tr>\n  </tbody>\n</table>\n<p>20 rows × 28 columns</p>\n</div>",
      "text/plain": "       Unnamed: 0 imdb_title_id                              title  \\\n26888       26888     tt7822474                    Suvarna Sundari   \n27401       27401     tt9008642                        Notuku Potu   \n19774       19774    tt11976170                             Jeeudo   \n19959       19959    tt12492650                                 Ek   \n19452       19452    tt11207902  Lejos de Casa pelicula Venezolana   \n27237       27237     tt8571428                Vaarthakal Ithuvare   \n20729       20729     tt1508669                      Hopeful Notes   \n20046       20046    tt12747588                          Meka Suri   \n19437       19437    tt11164090                The Moving on Phase   \n22998       22998     tt2673212                     The Best Years   \n18818       18818     tt0989831                   Jibon Theke Neya   \n17469       17469     tt0451130                   Moussaka & Chips   \n26265       26265     tt6735740                   Love in Kilnerry   \n18986       18986    tt10218912                            As I Am   \n11161       11161     tt0111161               Le ali della libertà   \n14559       14559     tt0252487                     Hababam Sinifi   \n27583       27583     tt9610354                     Ninnu Thalachi   \n19639       19639    tt11617492                             Orbius   \n24860       24860     tt4897596                          Digbhayam   \n25733       25733     tt5980638                  The Transcendents   \n\n                          original_title  year date_published  \\\n26888                    Suvarna Sundari  2019     2019-05-31   \n27401                        Notuku Potu  2017     2017-03-24   \n19774                             Jeeudo  2020     2020-02-27   \n19959                                 Ek  2019     2019-06-14   \n19452  Lejos de Casa pelicula Venezolana  2020     2020-03-19   \n27237                Vaarthakal Ithuvare  2019     2019-11-22   \n20729                      Hopeful Notes  2010     2010-12-15   \n20046                          Meka Suri  2020     2020-07-31   \n19437                The Moving on Phase  2020     2020-05-11   \n22998                     The Best Years  2013     2013-04-25   \n18818                   Jibon Theke Neya  1970     1970-04-10   \n17469                   Moussaka & Chips  2005     2005-11-13   \n26265                   Love in Kilnerry  2019     2019-06-23   \n18986                            As I Am  2019     2019-12-06   \n11161           The Shawshank Redemption  1994     1995-02-10   \n14559                     Hababam Sinifi  1975     1975-04-01   \n27583                     Ninnu Thalachi  2019     2019-09-27   \n19639                             Orbius  2020     2020-01-16   \n24860                          Digbhayam  2019     2019-05-24   \n25733                  The Transcendents  2018     2020-06-19   \n\n                                  genre  duration     country  \\\n26888            ['Action', 'Thriller']       120       India   \n27401             ['Horror', 'Mystery']       121       India   \n19774              ['Drama', 'Romance']       150       India   \n19959               ['Action', 'Drama']       129       India   \n19452              ['Drama', 'History']        87   Venezuela   \n27237                        ['Comedy']       121       India   \n20729                         ['Drama']        94         USA   \n20046             ['Crime', 'Thriller']        86       India   \n19437                        ['Comedy']        85         USA   \n22998      ['Comedy', 'Crime', 'Drama']        96          UK   \n18818        ['Drama', 'Family', 'War']       150  Bangladesh   \n17469                     ['Adventure']        90          UK   \n26265                        ['Comedy']       100         USA   \n18986   ['Drama', 'Fantasy', 'Romance']        62         USA   \n11161                         ['Drama']       142         USA   \n14559               ['Comedy', 'Drama']        87      Turkey   \n27583             ['Comedy', 'Romance']       138       India   \n19639                       ['Fantasy']       570      Russia   \n24860                      ['Thriller']       107       India   \n25733  ['Music', 'Mystery', 'Thriller']        96         USA   \n\n              language  ... usa_gross_income worlwide_gross_income metascore  \\\n26888  Telugu, Kannada  ...              NaN                   NaN       NaN   \n27401           Telugu  ...              NaN                   NaN       NaN   \n19774  English, Nepali  ...              NaN                   NaN       NaN   \n19959           Telugu  ...              NaN                   NaN       NaN   \n19452          Spanish  ...              NaN                   NaN       NaN   \n27237        Malayalam  ...              NaN                   NaN       NaN   \n20729          English  ...              NaN                   NaN       NaN   \n20046           Telugu  ...              NaN                   NaN       NaN   \n19437          English  ...              NaN                   NaN       NaN   \n22998          English  ...              NaN                   NaN       NaN   \n18818          Bengali  ...              NaN                   NaN       NaN   \n17469          English  ...              NaN                   NaN       NaN   \n26265          English  ...              NaN                   NaN       NaN   \n18986          English  ...              NaN                   NaN       NaN   \n11161          English  ...       $ 28699976            $ 28815245      80.0   \n14559          Turkish  ...              NaN                   NaN       NaN   \n27583           Telugu  ...              NaN                   NaN       NaN   \n19639             None  ...              NaN                   NaN       NaN   \n24860          Kannada  ...              NaN                   NaN       NaN   \n25733          English  ...           $ 1090                $ 1090       NaN   \n\n      reviews_from_users reviews_from_critics     id  encoded_genre  \\\n26888                NaN                  2.0  26888        [ 0 20]   \n27401                2.0                  1.0  27401        [12 15]   \n19774              114.0                  NaN  19774        [ 7 17]   \n19959                NaN                  NaN  19959          [0 7]   \n19452                NaN                  NaN  19452        [ 7 11]   \n27237               20.0                  NaN  27237            [4]   \n20729                2.0                  2.0  20729            [7]   \n20046              502.0                  NaN  20046        [ 5 20]   \n19437                NaN                  NaN  19437            [4]   \n22998                NaN                  NaN  22998        [4 5 7]   \n18818               11.0                  2.0  18818     [ 7  8 21]   \n17469                NaN                  NaN  17469            [1]   \n26265               17.0                 11.0  26265            [4]   \n18986                5.0                  NaN  18986     [ 7  9 17]   \n11161             8232.0                164.0  11161            [7]   \n14559               62.0                  1.0  14559          [4 7]   \n27583                4.0                  NaN  27583        [ 4 17]   \n19639                NaN                  NaN  19639            [9]   \n24860                6.0                  NaN  24860           [20]   \n25733                3.0                  4.0  25733     [13 15 20]   \n\n      writer_encoded director_encoded           extended_genre  \n26888            [0]           [7959]                     [()]  \n27401            [0]           [1248]            [(Thriller,)]  \n19774    [  40 3222]             [21]  [(Drama, Romance Film)]  \n19959         [7753]          [10060]               [(Drama,)]  \n19452    [4262  133]             [76]               [(Drama,)]  \n27237        [13134]           [6990]                     [()]  \n20729        [21369]          [11588]               [(Drama,)]  \n20046            [0]          [11461]                     [()]  \n19437         [4945]           [2760]               [(Drama,)]  \n22998         [4243]           [2362]                     [()]  \n18818  [22757  1036]          [12308]               [(Drama,)]  \n17469    [5540 4243]           [2362]                     [()]  \n26265         [4171]    [ 2315 10584]                     [()]  \n18986         [1526]            [860]               [(Drama,)]  \n11161  [19902  6346]           [3410]               [(Drama,)]  \n14559  [21255 17734]           [3137]                     [()]  \n27583            [0]            [809]        [(Romance Film,)]  \n19639        [19122]          [10290]                     [()]  \n24860         [1033]            [583]            [(Thriller,)]  \n25733         [4678]           [2598]                     [()]  \n\n[20 rows x 28 columns]"
     },
     "execution_count": 72,
     "metadata": {},
     "output_type": "execute_result"
    }
   ],
   "source": [
    "movies_df['extended_genre'] = results\r\n",
    "movies_df.head(20)"
   ]
  },
  {
   "cell_type": "code",
   "execution_count": 73,
   "metadata": {},
   "outputs": [],
   "source": [
    "movies.to_csv(\"../Resources/modified_movies.csv\")"
   ]
  },
  {
   "cell_type": "code",
   "execution_count": 92,
   "metadata": {},
   "outputs": [
    {
     "data": {
      "text/html": "<div>\n<style scoped>\n    .dataframe tbody tr th:only-of-type {\n        vertical-align: middle;\n    }\n\n    .dataframe tbody tr th {\n        vertical-align: top;\n    }\n\n    .dataframe thead th {\n        text-align: right;\n    }\n</style>\n<table border=\"1\" class=\"dataframe\">\n  <thead>\n    <tr style=\"text-align: right;\">\n      <th></th>\n      <th>Unnamed: 0</th>\n      <th>imdb_title_id</th>\n      <th>title</th>\n      <th>original_title</th>\n      <th>year</th>\n      <th>date_published</th>\n      <th>genre</th>\n      <th>duration</th>\n      <th>country</th>\n      <th>language</th>\n      <th>...</th>\n      <th>usa_gross_income</th>\n      <th>worlwide_gross_income</th>\n      <th>metascore</th>\n      <th>reviews_from_users</th>\n      <th>reviews_from_critics</th>\n      <th>id</th>\n      <th>encoded_genre</th>\n      <th>writer_encoded</th>\n      <th>director_encoded</th>\n      <th>extended_genre</th>\n    </tr>\n  </thead>\n  <tbody>\n    <tr>\n      <th>8162</th>\n      <td>8162</td>\n      <td>tt0080684</td>\n      <td>L'Impero colpisce ancora</td>\n      <td>Star Wars: Episode V - The Empire Strikes Back</td>\n      <td>1980</td>\n      <td>1980-09-19</td>\n      <td>['Action', 'Adventure', 'Fantasy']</td>\n      <td>124</td>\n      <td>USA</td>\n      <td>English</td>\n      <td>...</td>\n      <td>$ 291286960</td>\n      <td>$ 549265501</td>\n      <td>82.0</td>\n      <td>1229.0</td>\n      <td>228.0</td>\n      <td>8162</td>\n      <td>[0 1 9]</td>\n      <td>[12268 12218]</td>\n      <td>[4563]</td>\n      <td>[()]</td>\n    </tr>\n    <tr>\n      <th>7708</th>\n      <td>7708</td>\n      <td>tt0076759</td>\n      <td>Guerre stellari</td>\n      <td>Star Wars</td>\n      <td>1977</td>\n      <td>1977-10-20</td>\n      <td>['Action', 'Adventure', 'Fantasy']</td>\n      <td>121</td>\n      <td>USA</td>\n      <td>English</td>\n      <td>...</td>\n      <td>$ 460998507</td>\n      <td>$ 775768912</td>\n      <td>90.0</td>\n      <td>1852.0</td>\n      <td>192.0</td>\n      <td>7708</td>\n      <td>[0 1 9]</td>\n      <td>[6839]</td>\n      <td>[3642]</td>\n      <td>[(Action, Adventure)]</td>\n    </tr>\n    <tr>\n      <th>8801</th>\n      <td>8801</td>\n      <td>tt0086190</td>\n      <td>Il ritorno dello Jedi</td>\n      <td>Star Wars: Episode VI - Return of the Jedi</td>\n      <td>1983</td>\n      <td>1983-10-21</td>\n      <td>['Action', 'Adventure', 'Fantasy']</td>\n      <td>131</td>\n      <td>USA</td>\n      <td>English</td>\n      <td>...</td>\n      <td>$ 309306177</td>\n      <td>$ 475347111</td>\n      <td>58.0</td>\n      <td>839.0</td>\n      <td>202.0</td>\n      <td>8801</td>\n      <td>[0 1 9]</td>\n      <td>[12218  6839]</td>\n      <td>[9512]</td>\n      <td>[(Action,)]</td>\n    </tr>\n    <tr>\n      <th>22818</th>\n      <td>22818</td>\n      <td>tt2488496</td>\n      <td>Star Wars - Il risveglio della Forza</td>\n      <td>Star Wars: Episode VII - The Force Awakens</td>\n      <td>2015</td>\n      <td>2015-12-16</td>\n      <td>['Action', 'Adventure', 'Sci-Fi']</td>\n      <td>138</td>\n      <td>USA</td>\n      <td>English</td>\n      <td>...</td>\n      <td>$ 936662225</td>\n      <td>$ 2068224036</td>\n      <td>80.0</td>\n      <td>4822.0</td>\n      <td>909.0</td>\n      <td>22818</td>\n      <td>[ 0  1 18]</td>\n      <td>[12218  8854]</td>\n      <td>[4686]</td>\n      <td>[()]</td>\n    </tr>\n    <tr>\n      <th>26781</th>\n      <td>26781</td>\n      <td>tt7640228</td>\n      <td>Inter Star Wars 2. The Last Jehi</td>\n      <td>Inter Star Wars 2. The Last Jehi</td>\n      <td>2017</td>\n      <td>2017-11-16</td>\n      <td>['Action', 'Comedy', 'Horror']</td>\n      <td>48</td>\n      <td>Russia, Ukraine</td>\n      <td>Russian</td>\n      <td>...</td>\n      <td>NaN</td>\n      <td>NaN</td>\n      <td>NaN</td>\n      <td>NaN</td>\n      <td>1.0</td>\n      <td>26781</td>\n      <td>[ 0  4 12]</td>\n      <td>[19122 19067]</td>\n      <td>[10290 10261]</td>\n      <td>[()]</td>\n    </tr>\n    <tr>\n      <th>12099</th>\n      <td>12099</td>\n      <td>tt0121766</td>\n      <td>Star Wars: Episodio III - La vendetta dei Sith</td>\n      <td>Star Wars: Episode III - Revenge of the Sith</td>\n      <td>2005</td>\n      <td>2005-05-20</td>\n      <td>['Action', 'Adventure', 'Fantasy']</td>\n      <td>140</td>\n      <td>USA</td>\n      <td>English</td>\n      <td>...</td>\n      <td>$ 380270577</td>\n      <td>$ 868390560</td>\n      <td>68.0</td>\n      <td>3569.0</td>\n      <td>391.0</td>\n      <td>12099</td>\n      <td>[0 1 9]</td>\n      <td>[6839]</td>\n      <td>[3642]</td>\n      <td>[()]</td>\n    </tr>\n    <tr>\n      <th>22848</th>\n      <td>22848</td>\n      <td>tt2527336</td>\n      <td>Star Wars - Gli ultimi Jedi</td>\n      <td>Star Wars: Episode VIII - The Last Jedi</td>\n      <td>2017</td>\n      <td>2017-12-13</td>\n      <td>['Action', 'Adventure', 'Fantasy']</td>\n      <td>152</td>\n      <td>USA</td>\n      <td>English</td>\n      <td>...</td>\n      <td>$ 620181382</td>\n      <td>$ 1332540187</td>\n      <td>84.0</td>\n      <td>6718.0</td>\n      <td>717.0</td>\n      <td>22848</td>\n      <td>[0 1 9]</td>\n      <td>[17556  6839]</td>\n      <td>[9452]</td>\n      <td>[()]</td>\n    </tr>\n    <tr>\n      <th>24030</th>\n      <td>24030</td>\n      <td>tt3778644</td>\n      <td>Solo: A Star Wars Story</td>\n      <td>Solo: A Star Wars Story</td>\n      <td>2018</td>\n      <td>2018-05-23</td>\n      <td>['Action', 'Adventure', 'Sci-Fi']</td>\n      <td>135</td>\n      <td>USA</td>\n      <td>English</td>\n      <td>...</td>\n      <td>$ 213767512</td>\n      <td>$ 392924807</td>\n      <td>62.0</td>\n      <td>2486.0</td>\n      <td>546.0</td>\n      <td>24030</td>\n      <td>[ 0  1 18]</td>\n      <td>[10538 12218]</td>\n      <td>[9816]</td>\n      <td>[(Action,)]</td>\n    </tr>\n    <tr>\n      <th>22849</th>\n      <td>22849</td>\n      <td>tt2527338</td>\n      <td>Star Wars: L'ascesa di Skywalker</td>\n      <td>Star Wars: Episode IX - The Rise of Skywalker</td>\n      <td>2019</td>\n      <td>2019-12-18</td>\n      <td>['Action', 'Adventure', 'Fantasy']</td>\n      <td>141</td>\n      <td>USA</td>\n      <td>English</td>\n      <td>...</td>\n      <td>$ 515202542</td>\n      <td>$ 1074144248</td>\n      <td>53.0</td>\n      <td>7553.0</td>\n      <td>502.0</td>\n      <td>22849</td>\n      <td>[0 1 9]</td>\n      <td>[3529 8854]</td>\n      <td>[4686]</td>\n      <td>[()]</td>\n    </tr>\n  </tbody>\n</table>\n<p>9 rows × 28 columns</p>\n</div>",
      "text/plain": "       Unnamed: 0 imdb_title_id  \\\n8162         8162     tt0080684   \n7708         7708     tt0076759   \n8801         8801     tt0086190   \n22818       22818     tt2488496   \n26781       26781     tt7640228   \n12099       12099     tt0121766   \n22848       22848     tt2527336   \n24030       24030     tt3778644   \n22849       22849     tt2527338   \n\n                                                title  \\\n8162                         L'Impero colpisce ancora   \n7708                                  Guerre stellari   \n8801                            Il ritorno dello Jedi   \n22818            Star Wars - Il risveglio della Forza   \n26781                Inter Star Wars 2. The Last Jehi   \n12099  Star Wars: Episodio III - La vendetta dei Sith   \n22848                     Star Wars - Gli ultimi Jedi   \n24030                         Solo: A Star Wars Story   \n22849                Star Wars: L'ascesa di Skywalker   \n\n                                       original_title  year date_published  \\\n8162   Star Wars: Episode V - The Empire Strikes Back  1980     1980-09-19   \n7708                                        Star Wars  1977     1977-10-20   \n8801       Star Wars: Episode VI - Return of the Jedi  1983     1983-10-21   \n22818      Star Wars: Episode VII - The Force Awakens  2015     2015-12-16   \n26781                Inter Star Wars 2. The Last Jehi  2017     2017-11-16   \n12099    Star Wars: Episode III - Revenge of the Sith  2005     2005-05-20   \n22848         Star Wars: Episode VIII - The Last Jedi  2017     2017-12-13   \n24030                         Solo: A Star Wars Story  2018     2018-05-23   \n22849   Star Wars: Episode IX - The Rise of Skywalker  2019     2019-12-18   \n\n                                    genre  duration          country language  \\\n8162   ['Action', 'Adventure', 'Fantasy']       124              USA  English   \n7708   ['Action', 'Adventure', 'Fantasy']       121              USA  English   \n8801   ['Action', 'Adventure', 'Fantasy']       131              USA  English   \n22818   ['Action', 'Adventure', 'Sci-Fi']       138              USA  English   \n26781      ['Action', 'Comedy', 'Horror']        48  Russia, Ukraine  Russian   \n12099  ['Action', 'Adventure', 'Fantasy']       140              USA  English   \n22848  ['Action', 'Adventure', 'Fantasy']       152              USA  English   \n24030   ['Action', 'Adventure', 'Sci-Fi']       135              USA  English   \n22849  ['Action', 'Adventure', 'Fantasy']       141              USA  English   \n\n       ... usa_gross_income worlwide_gross_income metascore  \\\n8162   ...      $ 291286960           $ 549265501      82.0   \n7708   ...      $ 460998507           $ 775768912      90.0   \n8801   ...      $ 309306177           $ 475347111      58.0   \n22818  ...      $ 936662225          $ 2068224036      80.0   \n26781  ...              NaN                   NaN       NaN   \n12099  ...      $ 380270577           $ 868390560      68.0   \n22848  ...      $ 620181382          $ 1332540187      84.0   \n24030  ...      $ 213767512           $ 392924807      62.0   \n22849  ...      $ 515202542          $ 1074144248      53.0   \n\n      reviews_from_users reviews_from_critics     id  encoded_genre  \\\n8162              1229.0                228.0   8162        [0 1 9]   \n7708              1852.0                192.0   7708        [0 1 9]   \n8801               839.0                202.0   8801        [0 1 9]   \n22818             4822.0                909.0  22818     [ 0  1 18]   \n26781                NaN                  1.0  26781     [ 0  4 12]   \n12099             3569.0                391.0  12099        [0 1 9]   \n22848             6718.0                717.0  22848        [0 1 9]   \n24030             2486.0                546.0  24030     [ 0  1 18]   \n22849             7553.0                502.0  22849        [0 1 9]   \n\n      writer_encoded director_encoded         extended_genre  \n8162   [12268 12218]           [4563]                   [()]  \n7708          [6839]           [3642]  [(Action, Adventure)]  \n8801   [12218  6839]           [9512]            [(Action,)]  \n22818  [12218  8854]           [4686]                   [()]  \n26781  [19122 19067]    [10290 10261]                   [()]  \n12099         [6839]           [3642]                   [()]  \n22848  [17556  6839]           [9452]                   [()]  \n24030  [10538 12218]           [9816]            [(Action,)]  \n22849    [3529 8854]           [4686]                   [()]  \n\n[9 rows x 28 columns]"
     },
     "execution_count": 92,
     "metadata": {},
     "output_type": "execute_result"
    }
   ],
   "source": [
    "\r\n",
    "\r\n",
    "movies_df[movies_df['original_title'].str.contains('star wars', case=False)]"
   ]
  },
  {
   "cell_type": "code",
   "execution_count": null,
   "metadata": {},
   "outputs": [],
   "source": []
  }
 ],
 "metadata": {
  "kernelspec": {
   "display_name": "Python 3.9.0 64-bit",
   "name": "python390jvsc74a57bd0103d228d900514cf9bf4cf07f7e0d72e82c9d2a57a7849b1db6677865dfe2365"
  },
  "language_info": {
   "codemirror_mode": {
    "name": "ipython",
    "version": 3
   },
   "file_extension": ".py",
   "mimetype": "text/x-python",
   "name": "python",
   "nbconvert_exporter": "python",
   "pygments_lexer": "ipython3",
   "version": "3.9.0"
  },
  "orig_nbformat": 2
 },
 "nbformat": 4,
 "nbformat_minor": 2
}