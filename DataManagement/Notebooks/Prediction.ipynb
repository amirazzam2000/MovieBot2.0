{
 "cells": [
  {
   "cell_type": "code",
   "execution_count": 16,
   "metadata": {},
   "outputs": [],
   "source": [
    "import pandas as pd\r\n",
    "import datetime as dt\r\n",
    "from sklearn.feature_extraction.text import TfidfVectorizer\r\n",
    "from sklearn.metrics.pairwise import linear_kernel\r\n",
    "from sklearn.metrics.pairwise import cosine_similarity\r\n",
    "\r\n",
    "movies_df = pd.read_csv('../Resources/modified_movies.csv',low_memory=False)\r\n",
    "movies_df.sort_values(by=['avg_vote'], inplace=True, ascending=False)\r\n",
    "rating = pd.read_csv('../Resources/IMDb_ratings.csv',low_memory=False)"
   ]
  },
  {
   "cell_type": "code",
   "execution_count": 17,
   "metadata": {},
   "outputs": [
    {
     "name": "stdout",
     "output_type": "stream",
     "text": [
      "(34343, 28)\n"
     ]
    }
   ],
   "source": [
    "sub_movies = movies_df[movies_df['language'].str.contains('English', case=False)] # english -> 58\r\n",
    "sub_movies.reset_index(drop=True, inplace=True)\r\n",
    "print(sub_movies.shape)"
   ]
  },
  {
   "cell_type": "code",
   "execution_count": 18,
   "metadata": {},
   "outputs": [
    {
     "name": "stderr",
     "output_type": "stream",
     "text": [
      "<ipython-input-18-36d73f0a0ee0>:4: SettingWithCopyWarning: \n",
      "A value is trying to be set on a copy of a slice from a DataFrame.\n",
      "Try using .loc[row_indexer,col_indexer] = value instead\n",
      "\n",
      "See the caveats in the documentation: https://pandas.pydata.org/pandas-docs/stable/user_guide/indexing.html#returning-a-view-versus-a-copy\n",
      "  sub_movies['description']=sub_movies['description'].fillna('')\n"
     ]
    },
    {
     "data": {
      "text/plain": "(34343, 37103)"
     },
     "execution_count": 18,
     "metadata": {},
     "output_type": "execute_result"
    }
   ],
   "source": [
    "tfidf = TfidfVectorizer(stop_words='english')\r\n",
    "\r\n",
    "#Replace NaN with an empty string\r\n",
    "sub_movies['description']=sub_movies['description'].fillna('')\r\n",
    "\r\n",
    "#Construct the required TF-IDF matrix by fitting and transforming the data\r\n",
    "tfidf_matrix = tfidf.fit_transform(sub_movies['description'])\r\n",
    "\r\n",
    "#Output the shape of tfidf_matrix\r\n",
    "tfidf_matrix.shape\r\n",
    "\r\n",
    "#tfidf.get_feature_names()[1000:1020]"
   ]
  },
  {
   "cell_type": "code",
   "execution_count": 19,
   "metadata": {},
   "outputs": [
    {
     "name": "stdout",
     "output_type": "stream",
     "text": [
      "(34343, 34343)\n",
      "34343\n"
     ]
    }
   ],
   "source": [
    "cosine_sim = linear_kernel(tfidf_matrix, tfidf_matrix)\r\n",
    "print(cosine_sim.shape)\r\n",
    "\r\n",
    "indices = pd.Series(sub_movies.index, index=sub_movies['original_title']).drop_duplicates()\r\n",
    "print(indices.size)\r\n"
   ]
  },
  {
   "cell_type": "code",
   "execution_count": 20,
   "metadata": {},
   "outputs": [
    {
     "data": {
      "text/plain": "['Harry Potter and the Goblet of Fire',\n \"Harry Potter and the Sorcerer's Stone\",\n 'Harry Potter and the Half-Blood Prince',\n 'Harry Potter and the Chamber of Secrets',\n 'Harry Potter and the Prisoner of Azkaban',\n 'The Power and the Prize',\n 'The Power and the Glory',\n 'Harry Potter and the Order of the Phoenix',\n 'The Monster and the Girl',\n 'The Spider and the Fly',\n 'The We and the I',\n 'Harry Potter and the Deathly Hallows: Part 2',\n 'Harry Potter and the Deathly Hallows: Part 1',\n 'The Doctor and the Girl',\n 'Harry Styles: Behind the Album',\n 'The Soldier and the Lady',\n 'The Baroness and the Pig',\n 'Harry and the Hendersons',\n 'Charley and the Angel',\n 'The Professor and the Madman',\n 'Harry and Tonto',\n 'The Other End of the Line',\n 'The Doctor and the Devils',\n 'Quatermass and the Pit',\n 'Androcles and the Lion']"
     },
     "execution_count": 20,
     "metadata": {},
     "output_type": "execute_result"
    }
   ],
   "source": [
    "import difflib\r\n",
    "import math \r\n",
    "import array\r\n",
    "\r\n",
    "def similarity(word, pattern):\r\n",
    "    return difflib.SequenceMatcher(a=word.lower(), b=pattern.lower()).ratio()\r\n",
    "\r\n",
    "def fuzzy_search(title):\r\n",
    "    threshold = 0.6\r\n",
    "    output = []\r\n",
    "    outputWeight = []\r\n",
    "    for lookup in sub_movies['original_title']:\r\n",
    "        s =similarity(title, lookup) \r\n",
    "        if s > threshold:\r\n",
    "            m = sub_movies[sub_movies['original_title'] == lookup].original_title\r\n",
    "            try:\r\n",
    "                output.append(m.item())\r\n",
    "                outputWeight.append(s*10000)\r\n",
    "            except Exception:\r\n",
    "                pass\r\n",
    "            #print(sub_movies[sub_movies['original_title'] == lookup].original_title)\r\n",
    "\r\n",
    "    zipped_lists = zip(outputWeight,output)\r\n",
    "    sorted_zipped_lists = sorted(zipped_lists, reverse=True)\r\n",
    "    sorted_list1 = [element for _, element in sorted_zipped_lists]\r\n",
    "\r\n",
    "    return sorted_list1\r\n",
    "\r\n",
    "fuzzy_search(\"Harry Potter and the \")"
   ]
  },
  {
   "cell_type": "code",
   "execution_count": null,
   "metadata": {},
   "outputs": [],
   "source": []
  },
  {
   "cell_type": "code",
   "execution_count": 21,
   "metadata": {},
   "outputs": [],
   "source": [
    "def recommendation(title,cos=cosine_sim):\r\n",
    "    if title in indices.keys():\r\n",
    "        idx=indices[title]\r\n",
    "    elif fuzzy_search(title)[0] in indices.keys():\r\n",
    "        idx=indices[fuzzy_search(title)[0]]\r\n",
    "        print(\"did you mean\" ,fuzzy_search(title)[0], \"?\")\r\n",
    "\r\n",
    "    idx = idx[0] if(isinstance(idx, list) or (not np.isscalar(idx)) ) else idx\r\n",
    "    sim_scores = list(enumerate(cosine_sim[idx]))\r\n",
    "    sim_scores = sorted(sim_scores, key=lambda x: x[1], reverse=True)\r\n",
    "    sim_scores = sim_scores[1:len(sim_scores)]\r\n",
    "    #print(sim_scores)\r\n",
    "    movie_indices = [[i[0], i[1],  sub_movies['original_title'].iloc[i[0]]] for i in sim_scores]\r\n",
    "\r\n",
    "    return movie_indices \r\n",
    "    #return sub_movies['original_title'].iloc[movie_indices]"
   ]
  },
  {
   "cell_type": "code",
   "execution_count": 22,
   "metadata": {},
   "outputs": [
    {
     "name": "stdout",
     "output_type": "stream",
     "text": [
      "did you mean The Secret Life of Pets ?\n"
     ]
    },
    {
     "data": {
      "text/plain": "[[19876, 0.27879295935995874, 'Max mon amour'],\n [12793, 0.2456706635313863, 'Uptown New York'],\n [24141, 0.24248044722678058, 'Free and Easy'],\n [33589, 0.2388051745671041, 'The Devil and Max Devlin'],\n [34136, 0.22082844355052314, 'A Broken Life'],\n [18578, 0.21647829451034037, 'The Zohar Secret'],\n [28028, 0.20529282079517244, 'Kissing a Fool'],\n [25237, 0.20362783695903228, 'One Night Stand'],\n [21236, 0.200881601199363, 'Margarita Happy Hour'],\n [28277, 0.20031586100214516, 'Go Fish']]"
     },
     "execution_count": 22,
     "metadata": {},
     "output_type": "execute_result"
    }
   ],
   "source": [
    "recommendation(\"The Secret Life Of Pets\")[1:11]"
   ]
  },
  {
   "cell_type": "code",
   "execution_count": 23,
   "metadata": {},
   "outputs": [],
   "source": [
    "def getMovieName(title):\r\n",
    "\r\n",
    "    if title in indices.keys():\r\n",
    "        return True, sub_movies[sub_movies['original_title'] == title]\r\n",
    "    elif fuzzy_search(title)[0] in indices.keys():\r\n",
    "        print(\"did you mean\" ,fuzzy_search(title)[0], \"?\")\r\n",
    "        return False, sub_movies[sub_movies['original_title'] == fuzzy_search(title)[0]]\r\n",
    "\r\n",
    "\r\n",
    "    "
   ]
  },
  {
   "cell_type": "code",
   "execution_count": 44,
   "metadata": {},
   "outputs": [],
   "source": [
    "from scipy import spatial\r\n",
    "from pandas import DataFrame\r\n",
    "import numpy as np\r\n",
    "\r\n",
    "def similarityFactor(movie1: DataFrame, movie2 : DataFrame, script_similarity):\r\n",
    "    similarity = 0\r\n",
    "\r\n",
    "    value1 = np.array(movie1['director_encoded'].strip(\"[\").strip(\"]\").split(), dtype=int)\r\n",
    "    value2 = np.array(movie2['director_encoded'].strip(\"[\").strip(\"]\").split(), dtype=int)\r\n",
    "    padding = abs(value1.shape[0] - value2.shape[0])\r\n",
    "    value1 = np.pad(value1, ( padding ,0), 'constant') if value1.shape[0] < value2.shape[0] else value1\r\n",
    "    value2 = np.pad(value2, ( padding ,0), 'constant') if value1.shape[0] > value2.shape[0] else value2\r\n",
    "    similarity_factor = 0.1 *difflib.SequenceMatcher(a= value1, b=value2).ratio()\r\n",
    "\r\n",
    "    value1 = np.array(movie1['writer_encoded'].strip(\"[\").strip(\"]\").split(), dtype=int)\r\n",
    "    value2 = np.array(movie2['writer_encoded'].strip(\"[\").strip(\"]\").split(), dtype=int)\r\n",
    "    padding = abs(value1.shape[0] - value2.shape[0])\r\n",
    "    value1 = np.pad(value1, ( padding ,0), 'constant') if value1.shape[0] < value2.shape[0] else value1\r\n",
    "    value2 = np.pad(value2, ( padding ,0), 'constant') if value1.shape[0] > value2.shape[0] else value2\r\n",
    "    similarity_factor += 0.1 * difflib.SequenceMatcher(a= value1, b=value2).ratio()\r\n",
    "\r\n",
    "    value1 = np.array(movie1['encoded_genre'].strip(\"[\").strip(\"]\").split(), dtype=int)\r\n",
    "    value2 = np.array(movie2['encoded_genre'].strip(\"[\").strip(\"]\").split(), dtype=int)\r\n",
    "    padding = abs(value1.shape[0] - value2.shape[0])\r\n",
    "    value1 = np.pad(value1, ( padding ,0), 'constant') if value1.shape[0] < value2.shape[0] else value1\r\n",
    "    value2 = np.pad(value2, ( padding ,0), 'constant') if value1.shape[0] > value2.shape[0] else value2\r\n",
    "    similarity_factor += 0.3 * difflib.SequenceMatcher(a= value1, b=value2).ratio()\r\n",
    "\r\n",
    "    similarity_factor += 0.1 * ((movie2['avg_vote'] - 5)/5)\r\n",
    "    \r\n",
    "    #print( \"movies: \" ,movie1['original_title'].item(), \" : \", movie2['original_title'])\r\n",
    "    similarity_factor += 0.4 * script_similarity\r\n",
    "\r\n",
    "    \r\n",
    "    return similarity_factor \r\n",
    "\r\n",
    "import math\r\n",
    "def recommend(movie):\r\n",
    "    recommend_score = 0\r\n",
    "    aux = 0\r\n",
    "    movies_list = recommendation(movie['original_title'])\r\n",
    "    movies_list = movies_list[1:math.floor(len(movies_list)*0.1)]\r\n",
    "    for m in movies_list: \r\n",
    "        found, name = getMovieName(m[2])\r\n",
    "        for index,  n in name.iterrows():\r\n",
    "            aux = similarityFactor(movie,n, m[1] )\r\n",
    "            if aux > recommend_score and n[\"original_title\"] != movie[\"original_title\"]:\r\n",
    "                recommend_score = aux\r\n",
    "                movie_to_recommend = name\r\n",
    "\r\n",
    "    return recommend_score, movie_to_recommend\r\n",
    "    "
   ]
  },
  {
   "cell_type": "code",
   "execution_count": 25,
   "metadata": {},
   "outputs": [
    {
     "name": "stdout",
     "output_type": "stream",
     "text": [
      "1\n",
      "[ 0  0 42]\n"
     ]
    }
   ],
   "source": [
    "r = np.array(sub_movies[sub_movies['original_title'] == 'Jeeudo']['director_encoded'].item().strip(\"[\").strip(\"]\").split(), dtype=int)\r\n",
    "print(r.size)\r\n",
    "\r\n",
    "r = np.pad(r, (r.shape[0] +1 ,0), 'constant')\r\n",
    "print(r)\r\n"
   ]
  },
  {
   "cell_type": "code",
   "execution_count": 47,
   "metadata": {},
   "outputs": [
    {
     "name": "stdout",
     "output_type": "stream",
     "text": [
      "did you mean Speedway ?\n",
      "similarity factor:  0.374\n",
      "    Unnamed: 0 imdb_title_id                             title  \\\n",
      "54       65483     tt9509866  The Guy Who Didn't Like Musicals   \n",
      "\n",
      "                      original_title  year date_published  \\\n",
      "54  The Guy Who Didn't Like Musicals  2018     2018-12-23   \n",
      "\n",
      "                    genre  duration country     language  ...  \\\n",
      "54  ['Comedy', 'Musical']       112     USA  ['English']  ...   \n",
      "\n",
      "   usa_gross_income worlwide_gross_income metascore reviews_from_users  \\\n",
      "54              NaN                   NaN       NaN                4.0   \n",
      "\n",
      "   reviews_from_critics     id  encoded_genre writer_encoded director_encoded  \\\n",
      "54                  NaN  65483        [ 4 14]  [29529 32675]          [17604]   \n",
      "\n",
      "   language_encoded  \n",
      "54             [62]  \n",
      "\n",
      "[1 rows x 28 columns]\n",
      "movie name:  The Guy Who Didn't Like Musicals\n"
     ]
    }
   ],
   "source": [
    "movie=input('Please enter the movie name:')\r\n",
    "#recommendation(movie)\r\n",
    "found, entry = getMovieName(movie)\r\n",
    "\r\n",
    "for index,  e in entry.iterrows():\r\n",
    "    score, result = recommend(e)\r\n",
    "    print(\"similarity factor: \", score)\r\n",
    "    print(result)\r\n",
    "    #for r in result['original_title']:\r\n",
    "    print( \"movie name: \", result['original_title'].item() )\r\n",
    "\r\n"
   ]
  },
  {
   "cell_type": "code",
   "execution_count": null,
   "metadata": {},
   "outputs": [],
   "source": []
  }
 ],
 "metadata": {
  "kernelspec": {
   "display_name": "Python 3.9.0 64-bit",
   "name": "python390jvsc74a57bd0103d228d900514cf9bf4cf07f7e0d72e82c9d2a57a7849b1db6677865dfe2365"
  },
  "language_info": {
   "codemirror_mode": {
    "name": "ipython",
    "version": 3
   },
   "file_extension": ".py",
   "mimetype": "text/x-python",
   "name": "python",
   "nbconvert_exporter": "python",
   "pygments_lexer": "ipython3",
   "version": "3.9.0"
  },
  "orig_nbformat": 2
 },
 "nbformat": 4,
 "nbformat_minor": 2
}