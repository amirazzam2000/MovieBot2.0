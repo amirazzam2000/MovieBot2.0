{
 "cells": [
  {
   "cell_type": "code",
   "execution_count": 53,
   "metadata": {},
   "outputs": [],
   "source": [
    "import pandas as pd\r\n",
    "import datetime as dt\r\n",
    "from sklearn.feature_extraction.text import TfidfVectorizer\r\n",
    "from sklearn.metrics.pairwise import linear_kernel\r\n",
    "from sklearn.metrics.pairwise import cosine_similarity\r\n",
    "\r\n",
    "movies_df = pd.read_csv('../../Resources/modified_movies.csv',low_memory=False)\r\n",
    "movies_df.sort_values(by=['total_votes'], inplace=True, ascending=False)"
   ]
  },
  {
   "cell_type": "code",
   "execution_count": 35,
   "metadata": {},
   "outputs": [
    {
     "data": {
      "text/plain": "Index(['Unnamed: 0', 'Unnamed: 0.1', 'imdb_title_id', 'title',\n       'original_title', 'year', 'date_published', 'genre', 'duration',\n       'country', 'language', 'director', 'writer', 'production_company',\n       'actors', 'description', 'avg_vote', 'votes', 'budget',\n       'usa_gross_income', 'worlwide_gross_income', 'metascore',\n       'reviews_from_users', 'reviews_from_critics', 'id', 'encoded_genre',\n       'writer_encoded', 'director_encoded', 'language_encoded',\n       'weighted_average_vote', 'total_votes', 'mean_vote', 'median_vote',\n       'votes_10', 'votes_9', 'votes_8', 'votes_7', 'votes_6', 'votes_5',\n       'votes_4', 'votes_3', 'votes_2', 'votes_1', 'allgenders_0age_avg_vote',\n       'allgenders_0age_votes', 'allgenders_18age_avg_vote',\n       'allgenders_18age_votes', 'allgenders_30age_avg_vote',\n       'allgenders_30age_votes', 'allgenders_45age_avg_vote',\n       'allgenders_45age_votes', 'males_allages_avg_vote',\n       'males_allages_votes', 'males_0age_avg_vote', 'males_0age_votes',\n       'males_18age_avg_vote', 'males_18age_votes', 'males_30age_avg_vote',\n       'males_30age_votes', 'males_45age_avg_vote', 'males_45age_votes',\n       'females_allages_avg_vote', 'females_allages_votes',\n       'females_0age_avg_vote', 'females_0age_votes', 'females_18age_avg_vote',\n       'females_18age_votes', 'females_30age_avg_vote', 'females_30age_votes',\n       'females_45age_avg_vote', 'females_45age_votes',\n       'top1000_voters_rating', 'top1000_voters_votes', 'us_voters_rating',\n       'us_voters_votes', 'non_us_voters_rating', 'non_us_voters_votes'],\n      dtype='object')"
     },
     "execution_count": 35,
     "metadata": {},
     "output_type": "execute_result"
    }
   ],
   "source": [
    "movies_df.columns"
   ]
  },
  {
   "cell_type": "code",
   "execution_count": 54,
   "metadata": {},
   "outputs": [
    {
     "name": "stdout",
     "output_type": "stream",
     "text": [
      "(34343, 77)\n",
      "   Unnamed: 0  Unnamed: 0.1 imdb_title_id                 title  \\\n",
      "0          12         24403     tt0111161  Le ali della libertà   \n",
      "1          48         38972     tt0468569   Il cavaliere oscuro   \n",
      "2         118         45652     tt1375666             Inception   \n",
      "3         103         27399     tt0137523            Fight Club   \n",
      "4          53         24349     tt0110912          Pulp Fiction   \n",
      "\n",
      "             original_title  year date_published  \\\n",
      "0  The Shawshank Redemption  1994     1995-02-10   \n",
      "1           The Dark Knight  2008     2008-07-23   \n",
      "2                 Inception  2010     2010-09-24   \n",
      "3                Fight Club  1999     1999-10-29   \n",
      "4              Pulp Fiction  1994     1994-10-28   \n",
      "\n",
      "                               genre  duration       country  ...  \\\n",
      "0                          ['Drama']       142           USA  ...   \n",
      "1       ['Action', 'Crime', 'Drama']       152       USA, UK  ...   \n",
      "2  ['Action', 'Adventure', 'Sci-Fi']       148       USA, UK  ...   \n",
      "3                          ['Drama']       139  USA, Germany  ...   \n",
      "4                 ['Crime', 'Drama']       154           USA  ...   \n",
      "\n",
      "  females_30age_avg_vote females_30age_votes females_45age_avg_vote  \\\n",
      "0                    9.2            129249.0                    9.2   \n",
      "1                    8.7            123900.0                    8.2   \n",
      "2                    8.6            127806.0                    8.1   \n",
      "3                    8.7            115892.0                    8.1   \n",
      "4                    8.5             98421.0                    8.3   \n",
      "\n",
      "  females_45age_votes top1000_voters_rating top1000_voters_votes  \\\n",
      "0             34317.0                   8.9                906.0   \n",
      "1             20125.0                   8.6                928.0   \n",
      "2             20516.0                   8.2                894.0   \n",
      "3             20944.0                   8.3                882.0   \n",
      "4             25850.0                   8.6                907.0   \n",
      "\n",
      "   us_voters_rating  us_voters_votes non_us_voters_rating non_us_voters_votes  \n",
      "0               9.3         327264.0                  9.2            887226.0  \n",
      "1               9.1         348363.0                  8.9            861033.0  \n",
      "2               8.7         246718.0                  8.7            799420.0  \n",
      "3               8.7         263329.0                  8.8            727678.0  \n",
      "4               8.9         274101.0                  8.9            712280.0  \n",
      "\n",
      "[5 rows x 77 columns]\n"
     ]
    }
   ],
   "source": [
    "sub_movies = movies_df[movies_df['language'].str.contains('English', case=False)] \r\n",
    "sub_movies.reset_index(drop=True, inplace=True)\r\n",
    "print(sub_movies.shape)\r\n",
    "print(sub_movies.head())"
   ]
  },
  {
   "cell_type": "code",
   "execution_count": 55,
   "metadata": {},
   "outputs": [
    {
     "name": "stderr",
     "output_type": "stream",
     "text": [
      "<ipython-input-55-36d73f0a0ee0>:4: SettingWithCopyWarning: \n",
      "A value is trying to be set on a copy of a slice from a DataFrame.\n",
      "Try using .loc[row_indexer,col_indexer] = value instead\n",
      "\n",
      "See the caveats in the documentation: https://pandas.pydata.org/pandas-docs/stable/user_guide/indexing.html#returning-a-view-versus-a-copy\n",
      "  sub_movies['description']=sub_movies['description'].fillna('')\n"
     ]
    },
    {
     "data": {
      "text/plain": "(34343, 37103)"
     },
     "execution_count": 55,
     "metadata": {},
     "output_type": "execute_result"
    }
   ],
   "source": [
    "tfidf = TfidfVectorizer(stop_words='english')\r\n",
    "\r\n",
    "#Replace NaN with an empty string\r\n",
    "sub_movies['description']=sub_movies['description'].fillna('')\r\n",
    "\r\n",
    "#Construct the required TF-IDF matrix by fitting and transforming the data\r\n",
    "tfidf_matrix = tfidf.fit_transform(sub_movies['description'])\r\n",
    "\r\n",
    "#Output the shape of tfidf_matrix\r\n",
    "tfidf_matrix.shape\r\n",
    "\r\n",
    "#tfidf.get_feature_names()[1000:1020]"
   ]
  },
  {
   "cell_type": "code",
   "execution_count": 56,
   "metadata": {},
   "outputs": [],
   "source": [
    "cosine_sim = linear_kernel(tfidf_matrix, tfidf_matrix)\r\n",
    "print(cosine_sim.shape)\r\n",
    "\r\n",
    "indices = pd.Series(sub_movies.index, index=sub_movies['original_title']).drop_duplicates()\r\n",
    "print(indices.size)\r\n"
   ]
  },
  {
   "cell_type": "code",
   "execution_count": 57,
   "metadata": {},
   "outputs": [
    {
     "name": "stdout",
     "output_type": "stream",
     "text": [
      "(34343, 34343)\n",
      "34343\n"
     ]
    },
    {
     "data": {
      "text/plain": "['Harry Potter and the Goblet of Fire',\n \"Harry Potter and the Sorcerer's Stone\",\n 'Harry Potter and the Half-Blood Prince',\n 'Harry Potter and the Chamber of Secrets',\n 'Harry Potter and the Prisoner of Azkaban',\n 'The Power and the Prize',\n 'The Power and the Glory',\n 'Harry Potter and the Order of the Phoenix',\n 'The Monster and the Girl',\n 'The Spider and the Fly',\n 'The We and the I',\n 'Harry Potter and the Deathly Hallows: Part 2',\n 'Harry Potter and the Deathly Hallows: Part 1',\n 'The Doctor and the Girl',\n 'Harry Styles: Behind the Album',\n 'The Soldier and the Lady',\n 'The Baroness and the Pig',\n 'Harry and the Hendersons',\n 'Charley and the Angel',\n 'The Professor and the Madman',\n 'Harry and Tonto',\n 'The Other End of the Line',\n 'The Doctor and the Devils',\n 'Quatermass and the Pit',\n 'Androcles and the Lion']"
     },
     "execution_count": 57,
     "metadata": {},
     "output_type": "execute_result"
    }
   ],
   "source": [
    "import difflib\r\n",
    "import math \r\n",
    "import array\r\n",
    "\r\n",
    "def similarity(word, pattern):\r\n",
    "    return difflib.SequenceMatcher(a=word.lower(), b=pattern.lower()).ratio()\r\n",
    "\r\n",
    "def fuzzy_search(title):\r\n",
    "    threshold = 0.6\r\n",
    "    output = []\r\n",
    "    outputWeight = []\r\n",
    "    for lookup in sub_movies['original_title']:\r\n",
    "        s =similarity(title, lookup) \r\n",
    "        if s > threshold:\r\n",
    "            m = sub_movies[sub_movies['original_title'] == lookup].original_title\r\n",
    "            try:\r\n",
    "                output.append(m.item())\r\n",
    "                outputWeight.append(s*10000)\r\n",
    "            except Exception:\r\n",
    "                pass\r\n",
    "            #print(sub_movies[sub_movies['original_title'] == lookup].original_title)\r\n",
    "\r\n",
    "    zipped_lists = zip(outputWeight,output)\r\n",
    "    sorted_zipped_lists = sorted(zipped_lists, reverse=True)\r\n",
    "    sorted_list1 = [element for _, element in sorted_zipped_lists]\r\n",
    "\r\n",
    "    return sorted_list1\r\n",
    "\r\n",
    "fuzzy_search(\"Harry Potter and the \")"
   ]
  },
  {
   "cell_type": "code",
   "execution_count": 58,
   "metadata": {},
   "outputs": [],
   "source": [
    "def recommendation(title,cos=cosine_sim):\r\n",
    "    if title in indices.keys():\r\n",
    "        idx=indices[title]\r\n",
    "    elif fuzzy_search(title)[0] in indices.keys():\r\n",
    "        idx=indices[fuzzy_search(title)[0]]\r\n",
    "        print(\"did you mean\" ,fuzzy_search(title)[0], \"?\")\r\n",
    "\r\n",
    "    idx = idx[0] if(isinstance(idx, list) or (not np.isscalar(idx)) ) else idx\r\n",
    "    sim_scores = list(enumerate(cosine_sim[idx]))\r\n",
    "    sim_scores = sorted(sim_scores, key=lambda x: x[1], reverse=True)\r\n",
    "    sim_scores = sim_scores[1:len(sim_scores)]\r\n",
    "    #print(sim_scores)\r\n",
    "    movie_indices = [[i[0], i[1],  sub_movies['original_title'].iloc[i[0]]] for i in sim_scores]\r\n",
    "\r\n",
    "    return movie_indices \r\n",
    "    #return sub_movies['original_title'].iloc[movie_indices]"
   ]
  },
  {
   "cell_type": "code",
   "execution_count": 292,
   "metadata": {},
   "outputs": [
    {
     "data": {
      "text/plain": "[[11, 0.20873295626329375, 'The Lord of the Rings: The Two Towers'],\n [7, 0.15278678771685827, 'The Lord of the Rings: The Fellowship of the Ring'],\n [27044, 0.1325964686774591, '30 Years to Life'],\n [28030, 0.12889357993578718, 'Desperate Search'],\n [19897, 0.1213977318715607, 'Bullet for a Badman'],\n [119, 0.11991560699822923, 'X-Men: Days of Future Past'],\n [1318, 0.11832718467807758, 'Conan the Barbarian'],\n [17709, 0.11484332120254412, 'Popcorn'],\n [31703, 0.11352555987110945, 'Men of Means'],\n [145, 0.11171706196642081, 'The Hobbit: The Desolation of Smaug']]"
     },
     "execution_count": 292,
     "metadata": {},
     "output_type": "execute_result"
    }
   ],
   "source": [
    "recommendation(\"The Lord of the Rings: The Return of the King\")[1:11]"
   ]
  },
  {
   "cell_type": "code",
   "execution_count": 110,
   "metadata": {},
   "outputs": [],
   "source": [
    "def getMovieName(title):\r\n",
    "\r\n",
    "    if title in indices.keys():\r\n",
    "        return True, sub_movies[sub_movies['original_title'] == title].iloc[[0]]\r\n",
    "    elif fuzzy_search(title)[0] in indices.keys():\r\n",
    "        print(\"did you mean\" ,fuzzy_search(title)[0], \"?\")\r\n",
    "        return False, sub_movies[sub_movies['original_title'] == fuzzy_search(title)[0]].iloc[[0]]\r\n",
    "\r\n",
    "\r\n",
    "    "
   ]
  },
  {
   "cell_type": "code",
   "execution_count": 111,
   "metadata": {},
   "outputs": [
    {
     "data": {
      "text/html": "<div>\n<style scoped>\n    .dataframe tbody tr th:only-of-type {\n        vertical-align: middle;\n    }\n\n    .dataframe tbody tr th {\n        vertical-align: top;\n    }\n\n    .dataframe thead th {\n        text-align: right;\n    }\n</style>\n<table border=\"1\" class=\"dataframe\">\n  <thead>\n    <tr style=\"text-align: right;\">\n      <th></th>\n      <th>Unnamed: 0</th>\n      <th>Unnamed: 0.1</th>\n      <th>imdb_title_id</th>\n      <th>title</th>\n      <th>original_title</th>\n      <th>year</th>\n      <th>date_published</th>\n      <th>genre</th>\n      <th>duration</th>\n      <th>country</th>\n      <th>...</th>\n      <th>females_30age_avg_vote</th>\n      <th>females_30age_votes</th>\n      <th>females_45age_avg_vote</th>\n      <th>females_45age_votes</th>\n      <th>top1000_voters_rating</th>\n      <th>top1000_voters_votes</th>\n      <th>us_voters_rating</th>\n      <th>us_voters_votes</th>\n      <th>non_us_voters_rating</th>\n      <th>non_us_voters_votes</th>\n    </tr>\n  </thead>\n  <tbody>\n    <tr>\n      <th>3</th>\n      <td>103</td>\n      <td>27399</td>\n      <td>tt0137523</td>\n      <td>Fight Club</td>\n      <td>Fight Club</td>\n      <td>1999</td>\n      <td>1999-10-29</td>\n      <td>['Drama']</td>\n      <td>139</td>\n      <td>USA, Germany</td>\n      <td>...</td>\n      <td>8.7</td>\n      <td>115892.0</td>\n      <td>8.1</td>\n      <td>20944.0</td>\n      <td>8.3</td>\n      <td>882.0</td>\n      <td>8.7</td>\n      <td>263329.0</td>\n      <td>8.8</td>\n      <td>727678.0</td>\n    </tr>\n  </tbody>\n</table>\n<p>1 rows × 77 columns</p>\n</div>",
      "text/plain": "   Unnamed: 0  Unnamed: 0.1 imdb_title_id       title original_title  year  \\\n3         103         27399     tt0137523  Fight Club     Fight Club  1999   \n\n  date_published      genre  duration       country  ...  \\\n3     1999-10-29  ['Drama']       139  USA, Germany  ...   \n\n  females_30age_avg_vote females_30age_votes females_45age_avg_vote  \\\n3                    8.7            115892.0                    8.1   \n\n  females_45age_votes top1000_voters_rating top1000_voters_votes  \\\n3             20944.0                   8.3                882.0   \n\n   us_voters_rating  us_voters_votes non_us_voters_rating non_us_voters_votes  \n3               8.7         263329.0                  8.8            727678.0  \n\n[1 rows x 77 columns]"
     },
     "execution_count": 111,
     "metadata": {},
     "output_type": "execute_result"
    }
   ],
   "source": [
    "getMovieName(\"Fight Club\")[1]"
   ]
  },
  {
   "cell_type": "code",
   "execution_count": 410,
   "metadata": {},
   "outputs": [],
   "source": [
    "from scipy import spatial\r\n",
    "from pandas import DataFrame\r\n",
    "import numpy as np\r\n",
    "\r\n",
    "def similarityFactor(movie1: DataFrame, movie2 : DataFrame, script_similarity):\r\n",
    "    similarity = 0\r\n",
    "        \r\n",
    "    value1 = np.array(movie1['director_encoded'].values[0].strip(\"[\").strip(\"]\").split(), dtype=int)\r\n",
    "    value2 = np.array(movie2['director_encoded'].values[0].strip(\"[\").strip(\"]\").split(), dtype=int)\r\n",
    "    padding = abs(value1.shape[0] - value2.shape[0])\r\n",
    "    value1 = np.pad(value1, ( padding ,0), 'constant') if value1.shape[0] < value2.shape[0] else value1\r\n",
    "    value2 = np.pad(value2, ( padding ,0), 'constant') if value1.shape[0] > value2.shape[0] else value2\r\n",
    "    \r\n",
    "    similarity_factor = 0.1 *difflib.SequenceMatcher(a= value1, b=value2).ratio()\r\n",
    "    \r\n",
    "\r\n",
    "    value1 = np.array(movie1['writer_encoded'].values[0].strip(\"[\").strip(\"]\").split(), dtype=int)\r\n",
    "    value2 = np.array(movie2['writer_encoded'].values[0].strip(\"[\").strip(\"]\").split(), dtype=int)\r\n",
    "    padding = abs(value1.shape[0] - value2.shape[0])\r\n",
    "    value1 = np.pad(value1, ( padding ,0), 'constant') if value1.shape[0] < value2.shape[0] else value1\r\n",
    "    value2 = np.pad(value2, ( padding ,0), 'constant') if value1.shape[0] > value2.shape[0] else value2\r\n",
    "    \r\n",
    "    similarity_factor += 0.1 * difflib.SequenceMatcher(a= value1, b=value2).ratio()\r\n",
    "\r\n",
    "    value1 = np.array(movie1['encoded_genre'].values[0].strip(\"[\").strip(\"]\").split(), dtype=int)\r\n",
    "    value2 = np.array(movie2['encoded_genre'].values[0].strip(\"[\").strip(\"]\").split(), dtype=int)\r\n",
    "    padding = abs(value1.shape[0] - value2.shape[0])\r\n",
    "    value1 = np.pad(value1, ( padding ,0), 'constant') if value1.shape[0] < value2.shape[0] else value1\r\n",
    "    value2 = np.pad(value2, ( padding ,0), 'constant') if value1.shape[0] > value2.shape[0] else value2\r\n",
    "    \r\n",
    "    similarity_factor += 0.3 * difflib.SequenceMatcher(a= value1, b=value2).ratio()\r\n",
    "    \r\n",
    "    similarity_factor += 0.3 * ( (movie2['avg_vote'].values[0])/10 )\r\n",
    "    \r\n",
    "    \r\n",
    "    similarity_factor += 0.2 * script_similarity\r\n",
    "\r\n",
    "    \r\n",
    "    return similarity_factor \r\n",
    "\r\n",
    "import math\r\n",
    "def recommend(movie):\r\n",
    "    recommend_score = 0\r\n",
    "    aux = 0\r\n",
    "    movies_list = recommendation(movie['original_title'].item())\r\n",
    "    movies_list = movies_list[1:math.floor(len(movies_list)*0.1)]\r\n",
    "    print(math.floor(len(movies_list)*0.1))\r\n",
    "    for m in movies_list: \r\n",
    "        found, name = getMovieName(m[2])\r\n",
    "        aux = similarityFactor(movie,name, m[1] )\r\n",
    "        if aux > recommend_score : \r\n",
    "            recommend_score = aux\r\n",
    "            movie_to_recommend = name\r\n",
    "\r\n",
    "    return recommend_score, movie_to_recommend\r\n",
    "    "
   ]
  },
  {
   "cell_type": "code",
   "execution_count": 431,
   "metadata": {},
   "outputs": [],
   "source": [
    "from collections import OrderedDict\r\n",
    "def recommend_from_user_list(user_movie_list:DataFrame):\r\n",
    "    recommend_score = 0\r\n",
    "    aux = 0\r\n",
    "    the_list = []\r\n",
    "    movie_to_recommend = None\r\n",
    "    portion = 0.1/len(user_movie_list)\r\n",
    "    for index, movie in user_movie_list.iterrows():\r\n",
    "        movies_list = recommendation(movie['original_title'])\r\n",
    "        movies_list = movies_list[1:math.floor(len(movies_list)*portion)]\r\n",
    "        the_list.extend(movies_list)\r\n",
    "    the_list = [list(x) for x in set(tuple(x) for x in the_list)]\r\n",
    "    the_list = sorted(the_list, key=lambda x: x[1], reverse=True)\r\n",
    "    print(len(the_list))\r\n",
    "    for m in the_list: \r\n",
    "        found, name = getMovieName(m[2])\r\n",
    "        if not name.original_title.isin(user_movie_list.original_title).astype(bool).all():\r\n",
    "            aux = 0\r\n",
    "            for index in range(len(user_movie_list)):\r\n",
    "                user_m = user_movie_list.iloc[[index]]\r\n",
    "                aux += similarityFactor(user_m ,name, m[1] )\r\n",
    "            aux /= len(user_movie_list)\r\n",
    "            if aux > recommend_score : \r\n",
    "                recommend_score = aux\r\n",
    "                movie_to_recommend = name\r\n",
    "\r\n",
    "    return recommend_score, movie_to_recommend\r\n",
    "    "
   ]
  },
  {
   "cell_type": "code",
   "execution_count": 433,
   "metadata": {},
   "outputs": [
    {
     "name": "stdout",
     "output_type": "stream",
     "text": [
      "did you mean Inglourious Basterds ?\n",
      "did you mean Goodfellas ?\n",
      "did you mean Jojo Rabbit ?\n",
      "did you mean Dances with Wolves ?\n",
      "3425\n",
      "similarity factor:  0.609\n",
      "movie name:  Lawrence of Arabia\n"
     ]
    }
   ],
   "source": [
    "user_movie_list = pd.concat([getMovieName(\"inglourious basterds\")[1], \r\n",
    "                getMovieName(\"The Godfather\")[1], \r\n",
    "                getMovieName(\"good fellas\")[1],\r\n",
    "                getMovieName(\"jojo rabbit\")[1],\r\n",
    "                getMovieName(\"dancing with the wolves\")[1]\r\n",
    "                ]\r\n",
    "                )\r\n",
    "\r\n",
    "\r\n",
    "score, result = recommend_from_user_list(user_movie_list)\r\n",
    "print(\"similarity factor: \", score)\r\n",
    "print( \"movie name: \", result['original_title'].item() )\r\n"
   ]
  },
  {
   "cell_type": "code",
   "execution_count": 411,
   "metadata": {},
   "outputs": [
    {
     "name": "stdout",
     "output_type": "stream",
     "text": [
      "343\n",
      "similarity factor:  0.7824379227691317\n",
      "movie name:  Avengers: Infinity War\n"
     ]
    }
   ],
   "source": [
    "movie=input('Please enter the movie name:')\r\n",
    "\r\n",
    "found, entry = getMovieName(movie)\r\n",
    "score, result = recommend(entry)\r\n",
    "print(\"similarity factor: \", score)\r\n",
    "print( \"movie name: \", result['original_title'].item() )\r\n",
    "\r\n"
   ]
  }
 ],
 "metadata": {
  "kernelspec": {
   "display_name": "Python 3.9.0 64-bit",
   "name": "python390jvsc74a57bd0103d228d900514cf9bf4cf07f7e0d72e82c9d2a57a7849b1db6677865dfe2365"
  },
  "language_info": {
   "codemirror_mode": {
    "name": "ipython",
    "version": 3
   },
   "file_extension": ".py",
   "mimetype": "text/x-python",
   "name": "python",
   "nbconvert_exporter": "python",
   "pygments_lexer": "ipython3",
   "version": "3.9.0"
  },
  "orig_nbformat": 3
 },
 "nbformat": 4,
 "nbformat_minor": 2
}